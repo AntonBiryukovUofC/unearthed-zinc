{
 "cells": [
  {
   "cell_type": "code",
   "execution_count": 1,
   "metadata": {},
   "outputs": [
    {
     "data": {
      "text/html": [
       "<div>\n",
       "<style scoped>\n",
       "    .dataframe tbody tr th:only-of-type {\n",
       "        vertical-align: middle;\n",
       "    }\n",
       "\n",
       "    .dataframe tbody tr th {\n",
       "        vertical-align: top;\n",
       "    }\n",
       "\n",
       "    .dataframe thead th {\n",
       "        text-align: right;\n",
       "    }\n",
       "</style>\n",
       "<table border=\"1\" class=\"dataframe\">\n",
       "  <thead>\n",
       "    <tr style=\"text-align: right;\">\n",
       "      <th></th>\n",
       "      <th></th>\n",
       "      <th>date</th>\n",
       "      <th>primary_cleaner.input.copper_sulfate</th>\n",
       "      <th>primary_cleaner.input.depressant</th>\n",
       "      <th>primary_cleaner.input.feed_size</th>\n",
       "      <th>primary_cleaner.input.xanthate</th>\n",
       "      <th>primary_cleaner.state.floatbank8_a_air</th>\n",
       "      <th>primary_cleaner.state.floatbank8_a_level</th>\n",
       "      <th>primary_cleaner.state.floatbank8_b_air</th>\n",
       "      <th>primary_cleaner.state.floatbank8_b_level</th>\n",
       "      <th>primary_cleaner.state.floatbank8_c_air</th>\n",
       "      <th>...</th>\n",
       "      <th>secondary_cleaner.state.floatbank4_a_air</th>\n",
       "      <th>secondary_cleaner.state.floatbank4_a_level</th>\n",
       "      <th>secondary_cleaner.state.floatbank4_b_air</th>\n",
       "      <th>secondary_cleaner.state.floatbank4_b_level</th>\n",
       "      <th>secondary_cleaner.state.floatbank5_a_air</th>\n",
       "      <th>secondary_cleaner.state.floatbank5_a_level</th>\n",
       "      <th>secondary_cleaner.state.floatbank5_b_air</th>\n",
       "      <th>secondary_cleaner.state.floatbank5_b_level</th>\n",
       "      <th>secondary_cleaner.state.floatbank6_a_air</th>\n",
       "      <th>secondary_cleaner.state.floatbank6_a_level</th>\n",
       "    </tr>\n",
       "  </thead>\n",
       "  <tbody>\n",
       "    <tr>\n",
       "      <th rowspan=\"9\" valign=\"top\">train</th>\n",
       "      <th>7311</th>\n",
       "      <td>2017-03-16 14:59:59+00:00</td>\n",
       "      <td>75.214460</td>\n",
       "      <td>5.550631</td>\n",
       "      <td>4.970000</td>\n",
       "      <td>0.534310</td>\n",
       "      <td>1662.676732</td>\n",
       "      <td>-499.680843</td>\n",
       "      <td>1733.836824</td>\n",
       "      <td>-498.322885</td>\n",
       "      <td>1786.657336</td>\n",
       "      <td>...</td>\n",
       "      <td>25.017410</td>\n",
       "      <td>-399.902790</td>\n",
       "      <td>23.051705</td>\n",
       "      <td>-400.305438</td>\n",
       "      <td>19.360040</td>\n",
       "      <td>-450.053723</td>\n",
       "      <td>20.000338</td>\n",
       "      <td>-450.146493</td>\n",
       "      <td>25.001749</td>\n",
       "      <td>-500.127444</td>\n",
       "    </tr>\n",
       "    <tr>\n",
       "      <th>13103</th>\n",
       "      <td>2018-03-14 22:59:59+00:00</td>\n",
       "      <td>194.560330</td>\n",
       "      <td>10.316050</td>\n",
       "      <td>7.130000</td>\n",
       "      <td>0.903231</td>\n",
       "      <td>1698.774459</td>\n",
       "      <td>-500.678418</td>\n",
       "      <td>1699.555198</td>\n",
       "      <td>-499.678740</td>\n",
       "      <td>1699.559253</td>\n",
       "      <td>...</td>\n",
       "      <td>22.996515</td>\n",
       "      <td>-499.644947</td>\n",
       "      <td>15.152665</td>\n",
       "      <td>-499.988419</td>\n",
       "      <td>17.962153</td>\n",
       "      <td>-499.741687</td>\n",
       "      <td>11.991973</td>\n",
       "      <td>-500.114391</td>\n",
       "      <td>12.003934</td>\n",
       "      <td>-499.941776</td>\n",
       "    </tr>\n",
       "    <tr>\n",
       "      <th>10392</th>\n",
       "      <td>2017-07-22 23:59:59+00:00</td>\n",
       "      <td>103.017318</td>\n",
       "      <td>4.473228</td>\n",
       "      <td>7.330000</td>\n",
       "      <td>0.473523</td>\n",
       "      <td>1399.642337</td>\n",
       "      <td>-499.696035</td>\n",
       "      <td>1402.779662</td>\n",
       "      <td>-499.666899</td>\n",
       "      <td>1400.978943</td>\n",
       "      <td>...</td>\n",
       "      <td>20.018902</td>\n",
       "      <td>-500.786456</td>\n",
       "      <td>9.949891</td>\n",
       "      <td>-380.229738</td>\n",
       "      <td>16.014354</td>\n",
       "      <td>-500.113631</td>\n",
       "      <td>9.969343</td>\n",
       "      <td>-500.341869</td>\n",
       "      <td>14.989840</td>\n",
       "      <td>-499.957793</td>\n",
       "    </tr>\n",
       "    <tr>\n",
       "      <th>8819</th>\n",
       "      <td>2017-05-18 10:59:59+00:00</td>\n",
       "      <td>12.341268</td>\n",
       "      <td>0.045912</td>\n",
       "      <td>5.850000</td>\n",
       "      <td>0.011875</td>\n",
       "      <td>1741.543233</td>\n",
       "      <td>-498.835962</td>\n",
       "      <td>1751.367001</td>\n",
       "      <td>-498.561862</td>\n",
       "      <td>1749.620613</td>\n",
       "      <td>...</td>\n",
       "      <td>24.979445</td>\n",
       "      <td>-398.009220</td>\n",
       "      <td>23.034513</td>\n",
       "      <td>-399.806369</td>\n",
       "      <td>25.973629</td>\n",
       "      <td>-448.643187</td>\n",
       "      <td>21.246894</td>\n",
       "      <td>-449.739786</td>\n",
       "      <td>29.999802</td>\n",
       "      <td>-499.460593</td>\n",
       "    </tr>\n",
       "    <tr>\n",
       "      <th>7862</th>\n",
       "      <td>2017-04-08 13:59:59+00:00</td>\n",
       "      <td>145.264969</td>\n",
       "      <td>5.994680</td>\n",
       "      <td>7.380000</td>\n",
       "      <td>0.309529</td>\n",
       "      <td>1667.122878</td>\n",
       "      <td>-499.655817</td>\n",
       "      <td>1750.288922</td>\n",
       "      <td>-500.494430</td>\n",
       "      <td>1752.501377</td>\n",
       "      <td>...</td>\n",
       "      <td>25.046231</td>\n",
       "      <td>-400.339866</td>\n",
       "      <td>23.066938</td>\n",
       "      <td>-399.929117</td>\n",
       "      <td>25.997562</td>\n",
       "      <td>-450.185775</td>\n",
       "      <td>23.974870</td>\n",
       "      <td>-450.030545</td>\n",
       "      <td>29.995972</td>\n",
       "      <td>-499.718200</td>\n",
       "    </tr>\n",
       "    <tr>\n",
       "      <th>10779</th>\n",
       "      <td>2017-08-08 02:59:59+00:00</td>\n",
       "      <td>156.070643</td>\n",
       "      <td>4.978090</td>\n",
       "      <td>6.760000</td>\n",
       "      <td>0.735382</td>\n",
       "      <td>1504.871041</td>\n",
       "      <td>-500.107895</td>\n",
       "      <td>1501.715265</td>\n",
       "      <td>-500.171594</td>\n",
       "      <td>1507.010991</td>\n",
       "      <td>...</td>\n",
       "      <td>17.922464</td>\n",
       "      <td>-498.334083</td>\n",
       "      <td>11.951948</td>\n",
       "      <td>-399.748063</td>\n",
       "      <td>16.002319</td>\n",
       "      <td>-500.470792</td>\n",
       "      <td>12.010730</td>\n",
       "      <td>-500.242844</td>\n",
       "      <td>14.996338</td>\n",
       "      <td>-500.043078</td>\n",
       "    </tr>\n",
       "    <tr>\n",
       "      <th>14194</th>\n",
       "      <td>2018-04-29 09:59:59+00:00</td>\n",
       "      <td>183.842620</td>\n",
       "      <td>10.039533</td>\n",
       "      <td>7.130000</td>\n",
       "      <td>1.111036</td>\n",
       "      <td>1724.643578</td>\n",
       "      <td>-500.135919</td>\n",
       "      <td>1728.568864</td>\n",
       "      <td>-499.774594</td>\n",
       "      <td>1705.630513</td>\n",
       "      <td>...</td>\n",
       "      <td>27.003187</td>\n",
       "      <td>-499.229049</td>\n",
       "      <td>19.908930</td>\n",
       "      <td>-500.018550</td>\n",
       "      <td>19.984385</td>\n",
       "      <td>-499.131378</td>\n",
       "      <td>15.008724</td>\n",
       "      <td>-499.681850</td>\n",
       "      <td>17.997962</td>\n",
       "      <td>-498.588347</td>\n",
       "    </tr>\n",
       "    <tr>\n",
       "      <th>10550</th>\n",
       "      <td>2017-07-29 13:59:59+00:00</td>\n",
       "      <td>95.459725</td>\n",
       "      <td>6.003591</td>\n",
       "      <td>7.890000</td>\n",
       "      <td>0.398067</td>\n",
       "      <td>1398.440681</td>\n",
       "      <td>-500.492523</td>\n",
       "      <td>1402.027661</td>\n",
       "      <td>-499.700029</td>\n",
       "      <td>1403.221015</td>\n",
       "      <td>...</td>\n",
       "      <td>13.025145</td>\n",
       "      <td>-501.549951</td>\n",
       "      <td>9.981822</td>\n",
       "      <td>-400.829846</td>\n",
       "      <td>13.039805</td>\n",
       "      <td>-501.778484</td>\n",
       "      <td>10.012327</td>\n",
       "      <td>-499.999317</td>\n",
       "      <td>15.027341</td>\n",
       "      <td>-500.623574</td>\n",
       "    </tr>\n",
       "    <tr>\n",
       "      <th>3294</th>\n",
       "      <td>2016-05-31 05:59:59+00:00</td>\n",
       "      <td>129.979421</td>\n",
       "      <td>8.597387</td>\n",
       "      <td>8.340000</td>\n",
       "      <td>1.469371</td>\n",
       "      <td>1503.151010</td>\n",
       "      <td>-500.092804</td>\n",
       "      <td>1501.325573</td>\n",
       "      <td>-499.913593</td>\n",
       "      <td>1500.363300</td>\n",
       "      <td>...</td>\n",
       "      <td>10.002969</td>\n",
       "      <td>-499.536834</td>\n",
       "      <td>8.005584</td>\n",
       "      <td>-501.153284</td>\n",
       "      <td>8.022413</td>\n",
       "      <td>-500.275915</td>\n",
       "      <td>6.053893</td>\n",
       "      <td>-500.138345</td>\n",
       "      <td>17.999797</td>\n",
       "      <td>-501.118650</td>\n",
       "    </tr>\n",
       "    <tr>\n",
       "      <th>test</th>\n",
       "      <th>2630</th>\n",
       "      <td>2016-12-19 14:59:59+00:00</td>\n",
       "      <td>209.885178</td>\n",
       "      <td>11.397746</td>\n",
       "      <td>7.393333</td>\n",
       "      <td>1.453572</td>\n",
       "      <td>1496.738081</td>\n",
       "      <td>-500.481917</td>\n",
       "      <td>1502.116760</td>\n",
       "      <td>-501.417551</td>\n",
       "      <td>1501.322939</td>\n",
       "      <td>...</td>\n",
       "      <td>17.038619</td>\n",
       "      <td>-501.473151</td>\n",
       "      <td>14.946645</td>\n",
       "      <td>-509.796143</td>\n",
       "      <td>12.927161</td>\n",
       "      <td>-499.806634</td>\n",
       "      <td>12.052786</td>\n",
       "      <td>-499.855683</td>\n",
       "      <td>21.020760</td>\n",
       "      <td>-500.165911</td>\n",
       "    </tr>\n",
       "  </tbody>\n",
       "</table>\n",
       "<p>10 rows × 53 columns</p>\n",
       "</div>"
      ],
      "text/plain": [
       "                                 date  primary_cleaner.input.copper_sulfate  \\\n",
       "train 7311  2017-03-16 14:59:59+00:00                             75.214460   \n",
       "      13103 2018-03-14 22:59:59+00:00                            194.560330   \n",
       "      10392 2017-07-22 23:59:59+00:00                            103.017318   \n",
       "      8819  2017-05-18 10:59:59+00:00                             12.341268   \n",
       "      7862  2017-04-08 13:59:59+00:00                            145.264969   \n",
       "      10779 2017-08-08 02:59:59+00:00                            156.070643   \n",
       "      14194 2018-04-29 09:59:59+00:00                            183.842620   \n",
       "      10550 2017-07-29 13:59:59+00:00                             95.459725   \n",
       "      3294  2016-05-31 05:59:59+00:00                            129.979421   \n",
       "test  2630  2016-12-19 14:59:59+00:00                            209.885178   \n",
       "\n",
       "             primary_cleaner.input.depressant  \\\n",
       "train 7311                           5.550631   \n",
       "      13103                         10.316050   \n",
       "      10392                          4.473228   \n",
       "      8819                           0.045912   \n",
       "      7862                           5.994680   \n",
       "      10779                          4.978090   \n",
       "      14194                         10.039533   \n",
       "      10550                          6.003591   \n",
       "      3294                           8.597387   \n",
       "test  2630                          11.397746   \n",
       "\n",
       "             primary_cleaner.input.feed_size  primary_cleaner.input.xanthate  \\\n",
       "train 7311                          4.970000                        0.534310   \n",
       "      13103                         7.130000                        0.903231   \n",
       "      10392                         7.330000                        0.473523   \n",
       "      8819                          5.850000                        0.011875   \n",
       "      7862                          7.380000                        0.309529   \n",
       "      10779                         6.760000                        0.735382   \n",
       "      14194                         7.130000                        1.111036   \n",
       "      10550                         7.890000                        0.398067   \n",
       "      3294                          8.340000                        1.469371   \n",
       "test  2630                          7.393333                        1.453572   \n",
       "\n",
       "             primary_cleaner.state.floatbank8_a_air  \\\n",
       "train 7311                              1662.676732   \n",
       "      13103                             1698.774459   \n",
       "      10392                             1399.642337   \n",
       "      8819                              1741.543233   \n",
       "      7862                              1667.122878   \n",
       "      10779                             1504.871041   \n",
       "      14194                             1724.643578   \n",
       "      10550                             1398.440681   \n",
       "      3294                              1503.151010   \n",
       "test  2630                              1496.738081   \n",
       "\n",
       "             primary_cleaner.state.floatbank8_a_level  \\\n",
       "train 7311                                -499.680843   \n",
       "      13103                               -500.678418   \n",
       "      10392                               -499.696035   \n",
       "      8819                                -498.835962   \n",
       "      7862                                -499.655817   \n",
       "      10779                               -500.107895   \n",
       "      14194                               -500.135919   \n",
       "      10550                               -500.492523   \n",
       "      3294                                -500.092804   \n",
       "test  2630                                -500.481917   \n",
       "\n",
       "             primary_cleaner.state.floatbank8_b_air  \\\n",
       "train 7311                              1733.836824   \n",
       "      13103                             1699.555198   \n",
       "      10392                             1402.779662   \n",
       "      8819                              1751.367001   \n",
       "      7862                              1750.288922   \n",
       "      10779                             1501.715265   \n",
       "      14194                             1728.568864   \n",
       "      10550                             1402.027661   \n",
       "      3294                              1501.325573   \n",
       "test  2630                              1502.116760   \n",
       "\n",
       "             primary_cleaner.state.floatbank8_b_level  \\\n",
       "train 7311                                -498.322885   \n",
       "      13103                               -499.678740   \n",
       "      10392                               -499.666899   \n",
       "      8819                                -498.561862   \n",
       "      7862                                -500.494430   \n",
       "      10779                               -500.171594   \n",
       "      14194                               -499.774594   \n",
       "      10550                               -499.700029   \n",
       "      3294                                -499.913593   \n",
       "test  2630                                -501.417551   \n",
       "\n",
       "             primary_cleaner.state.floatbank8_c_air  ...  \\\n",
       "train 7311                              1786.657336  ...   \n",
       "      13103                             1699.559253  ...   \n",
       "      10392                             1400.978943  ...   \n",
       "      8819                              1749.620613  ...   \n",
       "      7862                              1752.501377  ...   \n",
       "      10779                             1507.010991  ...   \n",
       "      14194                             1705.630513  ...   \n",
       "      10550                             1403.221015  ...   \n",
       "      3294                              1500.363300  ...   \n",
       "test  2630                              1501.322939  ...   \n",
       "\n",
       "             secondary_cleaner.state.floatbank4_a_air  \\\n",
       "train 7311                                  25.017410   \n",
       "      13103                                 22.996515   \n",
       "      10392                                 20.018902   \n",
       "      8819                                  24.979445   \n",
       "      7862                                  25.046231   \n",
       "      10779                                 17.922464   \n",
       "      14194                                 27.003187   \n",
       "      10550                                 13.025145   \n",
       "      3294                                  10.002969   \n",
       "test  2630                                  17.038619   \n",
       "\n",
       "             secondary_cleaner.state.floatbank4_a_level  \\\n",
       "train 7311                                  -399.902790   \n",
       "      13103                                 -499.644947   \n",
       "      10392                                 -500.786456   \n",
       "      8819                                  -398.009220   \n",
       "      7862                                  -400.339866   \n",
       "      10779                                 -498.334083   \n",
       "      14194                                 -499.229049   \n",
       "      10550                                 -501.549951   \n",
       "      3294                                  -499.536834   \n",
       "test  2630                                  -501.473151   \n",
       "\n",
       "             secondary_cleaner.state.floatbank4_b_air  \\\n",
       "train 7311                                  23.051705   \n",
       "      13103                                 15.152665   \n",
       "      10392                                  9.949891   \n",
       "      8819                                  23.034513   \n",
       "      7862                                  23.066938   \n",
       "      10779                                 11.951948   \n",
       "      14194                                 19.908930   \n",
       "      10550                                  9.981822   \n",
       "      3294                                   8.005584   \n",
       "test  2630                                  14.946645   \n",
       "\n",
       "             secondary_cleaner.state.floatbank4_b_level  \\\n",
       "train 7311                                  -400.305438   \n",
       "      13103                                 -499.988419   \n",
       "      10392                                 -380.229738   \n",
       "      8819                                  -399.806369   \n",
       "      7862                                  -399.929117   \n",
       "      10779                                 -399.748063   \n",
       "      14194                                 -500.018550   \n",
       "      10550                                 -400.829846   \n",
       "      3294                                  -501.153284   \n",
       "test  2630                                  -509.796143   \n",
       "\n",
       "             secondary_cleaner.state.floatbank5_a_air  \\\n",
       "train 7311                                  19.360040   \n",
       "      13103                                 17.962153   \n",
       "      10392                                 16.014354   \n",
       "      8819                                  25.973629   \n",
       "      7862                                  25.997562   \n",
       "      10779                                 16.002319   \n",
       "      14194                                 19.984385   \n",
       "      10550                                 13.039805   \n",
       "      3294                                   8.022413   \n",
       "test  2630                                  12.927161   \n",
       "\n",
       "             secondary_cleaner.state.floatbank5_a_level  \\\n",
       "train 7311                                  -450.053723   \n",
       "      13103                                 -499.741687   \n",
       "      10392                                 -500.113631   \n",
       "      8819                                  -448.643187   \n",
       "      7862                                  -450.185775   \n",
       "      10779                                 -500.470792   \n",
       "      14194                                 -499.131378   \n",
       "      10550                                 -501.778484   \n",
       "      3294                                  -500.275915   \n",
       "test  2630                                  -499.806634   \n",
       "\n",
       "             secondary_cleaner.state.floatbank5_b_air  \\\n",
       "train 7311                                  20.000338   \n",
       "      13103                                 11.991973   \n",
       "      10392                                  9.969343   \n",
       "      8819                                  21.246894   \n",
       "      7862                                  23.974870   \n",
       "      10779                                 12.010730   \n",
       "      14194                                 15.008724   \n",
       "      10550                                 10.012327   \n",
       "      3294                                   6.053893   \n",
       "test  2630                                  12.052786   \n",
       "\n",
       "             secondary_cleaner.state.floatbank5_b_level  \\\n",
       "train 7311                                  -450.146493   \n",
       "      13103                                 -500.114391   \n",
       "      10392                                 -500.341869   \n",
       "      8819                                  -449.739786   \n",
       "      7862                                  -450.030545   \n",
       "      10779                                 -500.242844   \n",
       "      14194                                 -499.681850   \n",
       "      10550                                 -499.999317   \n",
       "      3294                                  -500.138345   \n",
       "test  2630                                  -499.855683   \n",
       "\n",
       "             secondary_cleaner.state.floatbank6_a_air  \\\n",
       "train 7311                                  25.001749   \n",
       "      13103                                 12.003934   \n",
       "      10392                                 14.989840   \n",
       "      8819                                  29.999802   \n",
       "      7862                                  29.995972   \n",
       "      10779                                 14.996338   \n",
       "      14194                                 17.997962   \n",
       "      10550                                 15.027341   \n",
       "      3294                                  17.999797   \n",
       "test  2630                                  21.020760   \n",
       "\n",
       "             secondary_cleaner.state.floatbank6_a_level  \n",
       "train 7311                                  -500.127444  \n",
       "      13103                                 -499.941776  \n",
       "      10392                                 -499.957793  \n",
       "      8819                                  -499.460593  \n",
       "      7862                                  -499.718200  \n",
       "      10779                                 -500.043078  \n",
       "      14194                                 -498.588347  \n",
       "      10550                                 -500.623574  \n",
       "      3294                                  -501.118650  \n",
       "test  2630                                  -500.165911  \n",
       "\n",
       "[10 rows x 53 columns]"
      ]
     },
     "execution_count": 1,
     "metadata": {},
     "output_type": "execute_result"
    }
   ],
   "source": [
    "import pandas as pd\n",
    "import seaborn as sns\n",
    "import numpy as np\n",
    "import altair as alt\n",
    "import matplotlib.pyplot as plt\n",
    "from tsfresh import extract_features\n",
    "import os\n",
    "\n",
    "df_train = pd.read_csv(f'../data/interim/train_data/all_train.csv',parse_dates=['date'])\n",
    "data_dict = pd.read_json(f'../data/interim/data_dictionary_v1.json')\n",
    "df_test = pd.read_csv(f'../data/interim/test_data/all_test.csv',parse_dates=['date'])\n",
    "\n",
    "cols = df_test.columns\n",
    "df_all_test = pd.concat([df_train[cols],df_test],keys = ['train','test'])\n",
    "df_all_test.sample(10)\n"
   ]
  },
  {
   "cell_type": "markdown",
   "metadata": {},
   "source": [
    "Show data_dict with column descriptions:"
   ]
  },
  {
   "cell_type": "code",
   "execution_count": 39,
   "metadata": {},
   "outputs": [
    {
     "name": "stdout",
     "output_type": "stream",
     "text": [
      "Train shape = (16860, 87) , test shape = (5856, 53)\n"
     ]
    }
   ],
   "source": [
    "print(f'Train shape = {df_train.shape} , test shape = {df_test.shape}')"
   ]
  },
  {
   "cell_type": "code",
   "execution_count": 41,
   "metadata": {},
   "outputs": [
    {
     "data": {
      "text/plain": [
       "count                          5856\n",
       "unique                         5856\n",
       "top       2017-10-01 00:59:59+00:00\n",
       "freq                              1\n",
       "first     2016-09-01 00:59:59+00:00\n",
       "last      2017-12-31 23:59:59+00:00\n",
       "Name: date, dtype: object"
      ]
     },
     "execution_count": 41,
     "metadata": {},
     "output_type": "execute_result"
    }
   ],
   "source": [
    "df_test.date.describe()"
   ]
  },
  {
   "cell_type": "markdown",
   "metadata": {},
   "source": [
    "There are some columns with `output` in the name.. Those are not available at the test prediction, and thus not super useful yet. Although in TODO list I'd add a possibility to build the model using `output` predictors and compare on local CV the quality of predictions with the model that uses test columns only"
   ]
  },
  {
   "cell_type": "code",
   "execution_count": 3,
   "metadata": {},
   "outputs": [
    {
     "data": {
      "text/html": [
       "<div>\n",
       "<style scoped>\n",
       "    .dataframe tbody tr th:only-of-type {\n",
       "        vertical-align: middle;\n",
       "    }\n",
       "\n",
       "    .dataframe tbody tr th {\n",
       "        vertical-align: top;\n",
       "    }\n",
       "\n",
       "    .dataframe thead th {\n",
       "        text-align: right;\n",
       "    }\n",
       "</style>\n",
       "<table border=\"1\" class=\"dataframe\">\n",
       "  <thead>\n",
       "    <tr style=\"text-align: right;\">\n",
       "      <th></th>\n",
       "      <th>description</th>\n",
       "      <th>is_input</th>\n",
       "      <th>is_output</th>\n",
       "      <th>is_state</th>\n",
       "      <th>is_target</th>\n",
       "      <th>name</th>\n",
       "      <th>units</th>\n",
       "    </tr>\n",
       "  </thead>\n",
       "  <tbody>\n",
       "    <tr>\n",
       "      <th>0</th>\n",
       "      <td>Timestamp of measurements</td>\n",
       "      <td>False</td>\n",
       "      <td>False</td>\n",
       "      <td>False</td>\n",
       "      <td>False</td>\n",
       "      <td>date</td>\n",
       "      <td>None</td>\n",
       "    </tr>\n",
       "    <tr>\n",
       "      <th>1</th>\n",
       "      <td>Plant Feed rate  t/hr</td>\n",
       "      <td>True</td>\n",
       "      <td>False</td>\n",
       "      <td>False</td>\n",
       "      <td>False</td>\n",
       "      <td>rougher.input.feed_rate</td>\n",
       "      <td>t/hr</td>\n",
       "    </tr>\n",
       "    <tr>\n",
       "      <th>2</th>\n",
       "      <td>Plant Feed Pb%</td>\n",
       "      <td>True</td>\n",
       "      <td>False</td>\n",
       "      <td>False</td>\n",
       "      <td>False</td>\n",
       "      <td>rougher.input.feed_pb</td>\n",
       "      <td>%</td>\n",
       "    </tr>\n",
       "    <tr>\n",
       "      <th>3</th>\n",
       "      <td>Plant Feed Zn%</td>\n",
       "      <td>True</td>\n",
       "      <td>False</td>\n",
       "      <td>False</td>\n",
       "      <td>False</td>\n",
       "      <td>rougher.input.feed_zn</td>\n",
       "      <td>%</td>\n",
       "    </tr>\n",
       "    <tr>\n",
       "      <th>4</th>\n",
       "      <td>Plant Feed Fe%</td>\n",
       "      <td>True</td>\n",
       "      <td>False</td>\n",
       "      <td>False</td>\n",
       "      <td>False</td>\n",
       "      <td>rougher.input.feed_fe</td>\n",
       "      <td>%</td>\n",
       "    </tr>\n",
       "    <tr>\n",
       "      <th>...</th>\n",
       "      <td>...</td>\n",
       "      <td>...</td>\n",
       "      <td>...</td>\n",
       "      <td>...</td>\n",
       "      <td>...</td>\n",
       "      <td>...</td>\n",
       "      <td>...</td>\n",
       "    </tr>\n",
       "    <tr>\n",
       "      <th>82</th>\n",
       "      <td>Float Bank 5 Cell B Level</td>\n",
       "      <td>False</td>\n",
       "      <td>False</td>\n",
       "      <td>True</td>\n",
       "      <td>False</td>\n",
       "      <td>secondary_cleaner.state.floatbank5_b_level</td>\n",
       "      <td>Unknown</td>\n",
       "    </tr>\n",
       "    <tr>\n",
       "      <th>83</th>\n",
       "      <td>Float Bank 5 Cell A Air</td>\n",
       "      <td>False</td>\n",
       "      <td>False</td>\n",
       "      <td>True</td>\n",
       "      <td>False</td>\n",
       "      <td>secondary_cleaner.state.floatbank5_a_air</td>\n",
       "      <td>Unknown</td>\n",
       "    </tr>\n",
       "    <tr>\n",
       "      <th>84</th>\n",
       "      <td>Float Bank 5 Cell B Air</td>\n",
       "      <td>False</td>\n",
       "      <td>False</td>\n",
       "      <td>True</td>\n",
       "      <td>False</td>\n",
       "      <td>secondary_cleaner.state.floatbank5_b_air</td>\n",
       "      <td>Unknown</td>\n",
       "    </tr>\n",
       "    <tr>\n",
       "      <th>85</th>\n",
       "      <td>Float Bank 6 Cell A Level</td>\n",
       "      <td>False</td>\n",
       "      <td>False</td>\n",
       "      <td>True</td>\n",
       "      <td>False</td>\n",
       "      <td>secondary_cleaner.state.floatbank6_a_level</td>\n",
       "      <td>Unknown</td>\n",
       "    </tr>\n",
       "    <tr>\n",
       "      <th>86</th>\n",
       "      <td>Float Bank 6 Cell A Air</td>\n",
       "      <td>False</td>\n",
       "      <td>False</td>\n",
       "      <td>True</td>\n",
       "      <td>False</td>\n",
       "      <td>secondary_cleaner.state.floatbank6_a_air</td>\n",
       "      <td>Unknown</td>\n",
       "    </tr>\n",
       "  </tbody>\n",
       "</table>\n",
       "<p>87 rows × 7 columns</p>\n",
       "</div>"
      ],
      "text/plain": [
       "                   description  is_input  is_output  is_state  is_target  \\\n",
       "0    Timestamp of measurements     False      False     False      False   \n",
       "1        Plant Feed rate  t/hr      True      False     False      False   \n",
       "2              Plant Feed Pb%       True      False     False      False   \n",
       "3               Plant Feed Zn%      True      False     False      False   \n",
       "4               Plant Feed Fe%      True      False     False      False   \n",
       "..                         ...       ...        ...       ...        ...   \n",
       "82  Float Bank 5 Cell B Level      False      False      True      False   \n",
       "83     Float Bank 5 Cell A Air     False      False      True      False   \n",
       "84     Float Bank 5 Cell B Air     False      False      True      False   \n",
       "85   Float Bank 6 Cell A Level     False      False      True      False   \n",
       "86     Float Bank 6 Cell A Air     False      False      True      False   \n",
       "\n",
       "                                          name    units  \n",
       "0                                         date     None  \n",
       "1                      rougher.input.feed_rate     t/hr  \n",
       "2                        rougher.input.feed_pb        %  \n",
       "3                        rougher.input.feed_zn        %  \n",
       "4                        rougher.input.feed_fe        %  \n",
       "..                                         ...      ...  \n",
       "82  secondary_cleaner.state.floatbank5_b_level  Unknown  \n",
       "83    secondary_cleaner.state.floatbank5_a_air  Unknown  \n",
       "84    secondary_cleaner.state.floatbank5_b_air  Unknown  \n",
       "85  secondary_cleaner.state.floatbank6_a_level  Unknown  \n",
       "86    secondary_cleaner.state.floatbank6_a_air  Unknown  \n",
       "\n",
       "[87 rows x 7 columns]"
      ]
     },
     "execution_count": 3,
     "metadata": {},
     "output_type": "execute_result"
    }
   ],
   "source": [
    "pd.set_option('display.max_rows',10)\n",
    "data_dict"
   ]
  },
  {
   "cell_type": "markdown",
   "metadata": {},
   "source": [
    "### Filter to features available both in train and test, and fill the NAs using padding left to right"
   ]
  },
  {
   "cell_type": "code",
   "execution_count": 16,
   "metadata": {},
   "outputs": [
    {
     "data": {
      "text/plain": [
       "2"
      ]
     },
     "execution_count": 16,
     "metadata": {},
     "output_type": "execute_result"
    }
   ],
   "source": [
    "12 % 5"
   ]
  },
  {
   "cell_type": "code",
   "execution_count": 19,
   "metadata": {},
   "outputs": [
    {
     "data": {
      "text/html": [
       "<div>\n",
       "<style scoped>\n",
       "    .dataframe tbody tr th:only-of-type {\n",
       "        vertical-align: middle;\n",
       "    }\n",
       "\n",
       "    .dataframe tbody tr th {\n",
       "        vertical-align: top;\n",
       "    }\n",
       "\n",
       "    .dataframe thead th {\n",
       "        text-align: right;\n",
       "    }\n",
       "</style>\n",
       "<table border=\"1\" class=\"dataframe\">\n",
       "  <thead>\n",
       "    <tr style=\"text-align: right;\">\n",
       "      <th></th>\n",
       "      <th>primary_cleaner.input.copper_sulfate</th>\n",
       "      <th>primary_cleaner.input.depressant</th>\n",
       "      <th>primary_cleaner.input.feed_size</th>\n",
       "      <th>primary_cleaner.input.xanthate</th>\n",
       "      <th>primary_cleaner.state.floatbank8_a_air</th>\n",
       "      <th>primary_cleaner.state.floatbank8_a_level</th>\n",
       "      <th>primary_cleaner.state.floatbank8_b_air</th>\n",
       "      <th>primary_cleaner.state.floatbank8_b_level</th>\n",
       "      <th>primary_cleaner.state.floatbank8_c_air</th>\n",
       "      <th>primary_cleaner.state.floatbank8_c_level</th>\n",
       "      <th>...</th>\n",
       "      <th>secondary_cleaner.state.floatbank4_a_air</th>\n",
       "      <th>secondary_cleaner.state.floatbank4_a_level</th>\n",
       "      <th>secondary_cleaner.state.floatbank4_b_air</th>\n",
       "      <th>secondary_cleaner.state.floatbank4_b_level</th>\n",
       "      <th>secondary_cleaner.state.floatbank5_a_air</th>\n",
       "      <th>secondary_cleaner.state.floatbank5_a_level</th>\n",
       "      <th>secondary_cleaner.state.floatbank5_b_air</th>\n",
       "      <th>secondary_cleaner.state.floatbank5_b_level</th>\n",
       "      <th>secondary_cleaner.state.floatbank6_a_air</th>\n",
       "      <th>secondary_cleaner.state.floatbank6_a_level</th>\n",
       "    </tr>\n",
       "    <tr>\n",
       "      <th>date</th>\n",
       "      <th></th>\n",
       "      <th></th>\n",
       "      <th></th>\n",
       "      <th></th>\n",
       "      <th></th>\n",
       "      <th></th>\n",
       "      <th></th>\n",
       "      <th></th>\n",
       "      <th></th>\n",
       "      <th></th>\n",
       "      <th></th>\n",
       "      <th></th>\n",
       "      <th></th>\n",
       "      <th></th>\n",
       "      <th></th>\n",
       "      <th></th>\n",
       "      <th></th>\n",
       "      <th></th>\n",
       "      <th></th>\n",
       "      <th></th>\n",
       "      <th></th>\n",
       "    </tr>\n",
       "  </thead>\n",
       "  <tbody>\n",
       "    <tr>\n",
       "      <th>2016-01-15 00:00:00+00:00</th>\n",
       "      <td>127.092003</td>\n",
       "      <td>10.128295</td>\n",
       "      <td>7.25</td>\n",
       "      <td>0.988759</td>\n",
       "      <td>1549.775757</td>\n",
       "      <td>-498.912140</td>\n",
       "      <td>1551.434204</td>\n",
       "      <td>-516.403442</td>\n",
       "      <td>1549.873901</td>\n",
       "      <td>-498.666595</td>\n",
       "      <td>...</td>\n",
       "      <td>14.016835</td>\n",
       "      <td>-502.488007</td>\n",
       "      <td>12.099931</td>\n",
       "      <td>-504.715942</td>\n",
       "      <td>9.925633</td>\n",
       "      <td>-498.310211</td>\n",
       "      <td>8.079666</td>\n",
       "      <td>-500.470978</td>\n",
       "      <td>14.151341</td>\n",
       "      <td>-605.841980</td>\n",
       "    </tr>\n",
       "    <tr>\n",
       "      <th>2016-01-15 04:00:00+00:00</th>\n",
       "      <td>117.988169</td>\n",
       "      <td>11.913613</td>\n",
       "      <td>7.25</td>\n",
       "      <td>1.009869</td>\n",
       "      <td>1601.339707</td>\n",
       "      <td>-498.975456</td>\n",
       "      <td>1601.437854</td>\n",
       "      <td>-500.323246</td>\n",
       "      <td>1599.581894</td>\n",
       "      <td>-500.888152</td>\n",
       "      <td>...</td>\n",
       "      <td>14.027298</td>\n",
       "      <td>-499.838632</td>\n",
       "      <td>11.953070</td>\n",
       "      <td>-501.053894</td>\n",
       "      <td>9.925709</td>\n",
       "      <td>-501.686727</td>\n",
       "      <td>7.894242</td>\n",
       "      <td>-500.356035</td>\n",
       "      <td>13.996647</td>\n",
       "      <td>-601.496691</td>\n",
       "    </tr>\n",
       "    <tr>\n",
       "      <th>2016-01-15 08:00:00+00:00</th>\n",
       "      <td>131.781026</td>\n",
       "      <td>12.465718</td>\n",
       "      <td>7.25</td>\n",
       "      <td>0.885535</td>\n",
       "      <td>1601.670053</td>\n",
       "      <td>-499.548891</td>\n",
       "      <td>1598.804355</td>\n",
       "      <td>-499.689644</td>\n",
       "      <td>1601.689285</td>\n",
       "      <td>-500.484957</td>\n",
       "      <td>...</td>\n",
       "      <td>13.964030</td>\n",
       "      <td>-504.252450</td>\n",
       "      <td>12.060738</td>\n",
       "      <td>-501.174549</td>\n",
       "      <td>10.033838</td>\n",
       "      <td>-501.178133</td>\n",
       "      <td>7.881604</td>\n",
       "      <td>-499.729434</td>\n",
       "      <td>13.967135</td>\n",
       "      <td>-599.061188</td>\n",
       "    </tr>\n",
       "    <tr>\n",
       "      <th>2016-01-15 12:00:00+00:00</th>\n",
       "      <td>147.944885</td>\n",
       "      <td>12.481529</td>\n",
       "      <td>7.25</td>\n",
       "      <td>0.893913</td>\n",
       "      <td>1603.053015</td>\n",
       "      <td>-499.728573</td>\n",
       "      <td>1600.537532</td>\n",
       "      <td>-500.096021</td>\n",
       "      <td>1597.568005</td>\n",
       "      <td>-499.601040</td>\n",
       "      <td>...</td>\n",
       "      <td>13.983963</td>\n",
       "      <td>-503.675714</td>\n",
       "      <td>11.928745</td>\n",
       "      <td>-500.583183</td>\n",
       "      <td>9.970359</td>\n",
       "      <td>-498.822343</td>\n",
       "      <td>8.016377</td>\n",
       "      <td>-499.013145</td>\n",
       "      <td>14.000032</td>\n",
       "      <td>-600.024741</td>\n",
       "    </tr>\n",
       "    <tr>\n",
       "      <th>2016-01-15 16:00:00+00:00</th>\n",
       "      <td>147.591165</td>\n",
       "      <td>12.517364</td>\n",
       "      <td>7.25</td>\n",
       "      <td>0.959430</td>\n",
       "      <td>1602.999120</td>\n",
       "      <td>-500.526448</td>\n",
       "      <td>1597.866105</td>\n",
       "      <td>-499.798253</td>\n",
       "      <td>1598.796914</td>\n",
       "      <td>-498.214347</td>\n",
       "      <td>...</td>\n",
       "      <td>14.031220</td>\n",
       "      <td>-503.471307</td>\n",
       "      <td>11.966426</td>\n",
       "      <td>-500.656842</td>\n",
       "      <td>10.051620</td>\n",
       "      <td>-498.318772</td>\n",
       "      <td>8.018091</td>\n",
       "      <td>-499.696138</td>\n",
       "      <td>13.958937</td>\n",
       "      <td>-599.213013</td>\n",
       "    </tr>\n",
       "    <tr>\n",
       "      <th>...</th>\n",
       "      <td>...</td>\n",
       "      <td>...</td>\n",
       "      <td>...</td>\n",
       "      <td>...</td>\n",
       "      <td>...</td>\n",
       "      <td>...</td>\n",
       "      <td>...</td>\n",
       "      <td>...</td>\n",
       "      <td>...</td>\n",
       "      <td>...</td>\n",
       "      <td>...</td>\n",
       "      <td>...</td>\n",
       "      <td>...</td>\n",
       "      <td>...</td>\n",
       "      <td>...</td>\n",
       "      <td>...</td>\n",
       "      <td>...</td>\n",
       "      <td>...</td>\n",
       "      <td>...</td>\n",
       "      <td>...</td>\n",
       "      <td>...</td>\n",
       "    </tr>\n",
       "    <tr>\n",
       "      <th>2017-12-31 04:59:59+00:00</th>\n",
       "      <td>189.439828</td>\n",
       "      <td>16.008396</td>\n",
       "      <td>8.07</td>\n",
       "      <td>0.881950</td>\n",
       "      <td>1398.506688</td>\n",
       "      <td>-503.076112</td>\n",
       "      <td>1396.317692</td>\n",
       "      <td>-497.929866</td>\n",
       "      <td>1396.105827</td>\n",
       "      <td>-499.376997</td>\n",
       "      <td>...</td>\n",
       "      <td>14.045226</td>\n",
       "      <td>-499.421767</td>\n",
       "      <td>12.009828</td>\n",
       "      <td>-500.024489</td>\n",
       "      <td>7.949260</td>\n",
       "      <td>-499.801473</td>\n",
       "      <td>5.959555</td>\n",
       "      <td>-499.785827</td>\n",
       "      <td>8.993141</td>\n",
       "      <td>-508.148163</td>\n",
       "    </tr>\n",
       "    <tr>\n",
       "      <th>2017-12-31 08:59:59+00:00</th>\n",
       "      <td>183.531945</td>\n",
       "      <td>15.993966</td>\n",
       "      <td>8.07</td>\n",
       "      <td>0.898512</td>\n",
       "      <td>1398.919175</td>\n",
       "      <td>-500.420522</td>\n",
       "      <td>1403.632064</td>\n",
       "      <td>-498.848238</td>\n",
       "      <td>1396.892881</td>\n",
       "      <td>-500.193519</td>\n",
       "      <td>...</td>\n",
       "      <td>13.978927</td>\n",
       "      <td>-499.798108</td>\n",
       "      <td>11.994358</td>\n",
       "      <td>-499.984593</td>\n",
       "      <td>8.014689</td>\n",
       "      <td>-499.943223</td>\n",
       "      <td>6.000928</td>\n",
       "      <td>-499.882958</td>\n",
       "      <td>8.982384</td>\n",
       "      <td>-503.605414</td>\n",
       "    </tr>\n",
       "    <tr>\n",
       "      <th>2017-12-31 12:59:59+00:00</th>\n",
       "      <td>177.405012</td>\n",
       "      <td>15.984476</td>\n",
       "      <td>8.07</td>\n",
       "      <td>0.894480</td>\n",
       "      <td>1398.386535</td>\n",
       "      <td>-500.066376</td>\n",
       "      <td>1398.601157</td>\n",
       "      <td>-500.118035</td>\n",
       "      <td>1398.039229</td>\n",
       "      <td>-499.647822</td>\n",
       "      <td>...</td>\n",
       "      <td>14.019744</td>\n",
       "      <td>-500.645051</td>\n",
       "      <td>12.097232</td>\n",
       "      <td>-499.918724</td>\n",
       "      <td>8.050697</td>\n",
       "      <td>-499.748441</td>\n",
       "      <td>6.009363</td>\n",
       "      <td>-499.753859</td>\n",
       "      <td>9.001746</td>\n",
       "      <td>-502.504685</td>\n",
       "    </tr>\n",
       "    <tr>\n",
       "      <th>2017-12-31 16:59:59+00:00</th>\n",
       "      <td>175.659892</td>\n",
       "      <td>16.006896</td>\n",
       "      <td>8.07</td>\n",
       "      <td>0.902511</td>\n",
       "      <td>1479.674899</td>\n",
       "      <td>-508.101587</td>\n",
       "      <td>1480.470306</td>\n",
       "      <td>-520.946138</td>\n",
       "      <td>1457.639776</td>\n",
       "      <td>-491.907626</td>\n",
       "      <td>...</td>\n",
       "      <td>18.864683</td>\n",
       "      <td>-506.142516</td>\n",
       "      <td>14.490365</td>\n",
       "      <td>-500.750090</td>\n",
       "      <td>10.427824</td>\n",
       "      <td>-503.240854</td>\n",
       "      <td>8.502090</td>\n",
       "      <td>-500.193042</td>\n",
       "      <td>11.411822</td>\n",
       "      <td>-500.893381</td>\n",
       "    </tr>\n",
       "    <tr>\n",
       "      <th>2017-12-31 20:59:59+00:00</th>\n",
       "      <td>172.910270</td>\n",
       "      <td>16.002605</td>\n",
       "      <td>8.07</td>\n",
       "      <td>0.896519</td>\n",
       "      <td>1447.075722</td>\n",
       "      <td>-494.716823</td>\n",
       "      <td>1448.851892</td>\n",
       "      <td>-465.963026</td>\n",
       "      <td>1443.890424</td>\n",
       "      <td>-503.587739</td>\n",
       "      <td>...</td>\n",
       "      <td>16.749781</td>\n",
       "      <td>-496.031539</td>\n",
       "      <td>13.365371</td>\n",
       "      <td>-499.122723</td>\n",
       "      <td>9.288553</td>\n",
       "      <td>-496.892967</td>\n",
       "      <td>7.372897</td>\n",
       "      <td>-499.942956</td>\n",
       "      <td>8.986832</td>\n",
       "      <td>-499.903761</td>\n",
       "    </tr>\n",
       "  </tbody>\n",
       "</table>\n",
       "<p>5679 rows × 52 columns</p>\n",
       "</div>"
      ],
      "text/plain": [
       "                           primary_cleaner.input.copper_sulfate  \\\n",
       "date                                                              \n",
       "2016-01-15 00:00:00+00:00                            127.092003   \n",
       "2016-01-15 04:00:00+00:00                            117.988169   \n",
       "2016-01-15 08:00:00+00:00                            131.781026   \n",
       "2016-01-15 12:00:00+00:00                            147.944885   \n",
       "2016-01-15 16:00:00+00:00                            147.591165   \n",
       "...                                                         ...   \n",
       "2017-12-31 04:59:59+00:00                            189.439828   \n",
       "2017-12-31 08:59:59+00:00                            183.531945   \n",
       "2017-12-31 12:59:59+00:00                            177.405012   \n",
       "2017-12-31 16:59:59+00:00                            175.659892   \n",
       "2017-12-31 20:59:59+00:00                            172.910270   \n",
       "\n",
       "                           primary_cleaner.input.depressant  \\\n",
       "date                                                          \n",
       "2016-01-15 00:00:00+00:00                         10.128295   \n",
       "2016-01-15 04:00:00+00:00                         11.913613   \n",
       "2016-01-15 08:00:00+00:00                         12.465718   \n",
       "2016-01-15 12:00:00+00:00                         12.481529   \n",
       "2016-01-15 16:00:00+00:00                         12.517364   \n",
       "...                                                     ...   \n",
       "2017-12-31 04:59:59+00:00                         16.008396   \n",
       "2017-12-31 08:59:59+00:00                         15.993966   \n",
       "2017-12-31 12:59:59+00:00                         15.984476   \n",
       "2017-12-31 16:59:59+00:00                         16.006896   \n",
       "2017-12-31 20:59:59+00:00                         16.002605   \n",
       "\n",
       "                           primary_cleaner.input.feed_size  \\\n",
       "date                                                         \n",
       "2016-01-15 00:00:00+00:00                             7.25   \n",
       "2016-01-15 04:00:00+00:00                             7.25   \n",
       "2016-01-15 08:00:00+00:00                             7.25   \n",
       "2016-01-15 12:00:00+00:00                             7.25   \n",
       "2016-01-15 16:00:00+00:00                             7.25   \n",
       "...                                                    ...   \n",
       "2017-12-31 04:59:59+00:00                             8.07   \n",
       "2017-12-31 08:59:59+00:00                             8.07   \n",
       "2017-12-31 12:59:59+00:00                             8.07   \n",
       "2017-12-31 16:59:59+00:00                             8.07   \n",
       "2017-12-31 20:59:59+00:00                             8.07   \n",
       "\n",
       "                           primary_cleaner.input.xanthate  \\\n",
       "date                                                        \n",
       "2016-01-15 00:00:00+00:00                        0.988759   \n",
       "2016-01-15 04:00:00+00:00                        1.009869   \n",
       "2016-01-15 08:00:00+00:00                        0.885535   \n",
       "2016-01-15 12:00:00+00:00                        0.893913   \n",
       "2016-01-15 16:00:00+00:00                        0.959430   \n",
       "...                                                   ...   \n",
       "2017-12-31 04:59:59+00:00                        0.881950   \n",
       "2017-12-31 08:59:59+00:00                        0.898512   \n",
       "2017-12-31 12:59:59+00:00                        0.894480   \n",
       "2017-12-31 16:59:59+00:00                        0.902511   \n",
       "2017-12-31 20:59:59+00:00                        0.896519   \n",
       "\n",
       "                           primary_cleaner.state.floatbank8_a_air  \\\n",
       "date                                                                \n",
       "2016-01-15 00:00:00+00:00                             1549.775757   \n",
       "2016-01-15 04:00:00+00:00                             1601.339707   \n",
       "2016-01-15 08:00:00+00:00                             1601.670053   \n",
       "2016-01-15 12:00:00+00:00                             1603.053015   \n",
       "2016-01-15 16:00:00+00:00                             1602.999120   \n",
       "...                                                           ...   \n",
       "2017-12-31 04:59:59+00:00                             1398.506688   \n",
       "2017-12-31 08:59:59+00:00                             1398.919175   \n",
       "2017-12-31 12:59:59+00:00                             1398.386535   \n",
       "2017-12-31 16:59:59+00:00                             1479.674899   \n",
       "2017-12-31 20:59:59+00:00                             1447.075722   \n",
       "\n",
       "                           primary_cleaner.state.floatbank8_a_level  \\\n",
       "date                                                                  \n",
       "2016-01-15 00:00:00+00:00                               -498.912140   \n",
       "2016-01-15 04:00:00+00:00                               -498.975456   \n",
       "2016-01-15 08:00:00+00:00                               -499.548891   \n",
       "2016-01-15 12:00:00+00:00                               -499.728573   \n",
       "2016-01-15 16:00:00+00:00                               -500.526448   \n",
       "...                                                             ...   \n",
       "2017-12-31 04:59:59+00:00                               -503.076112   \n",
       "2017-12-31 08:59:59+00:00                               -500.420522   \n",
       "2017-12-31 12:59:59+00:00                               -500.066376   \n",
       "2017-12-31 16:59:59+00:00                               -508.101587   \n",
       "2017-12-31 20:59:59+00:00                               -494.716823   \n",
       "\n",
       "                           primary_cleaner.state.floatbank8_b_air  \\\n",
       "date                                                                \n",
       "2016-01-15 00:00:00+00:00                             1551.434204   \n",
       "2016-01-15 04:00:00+00:00                             1601.437854   \n",
       "2016-01-15 08:00:00+00:00                             1598.804355   \n",
       "2016-01-15 12:00:00+00:00                             1600.537532   \n",
       "2016-01-15 16:00:00+00:00                             1597.866105   \n",
       "...                                                           ...   \n",
       "2017-12-31 04:59:59+00:00                             1396.317692   \n",
       "2017-12-31 08:59:59+00:00                             1403.632064   \n",
       "2017-12-31 12:59:59+00:00                             1398.601157   \n",
       "2017-12-31 16:59:59+00:00                             1480.470306   \n",
       "2017-12-31 20:59:59+00:00                             1448.851892   \n",
       "\n",
       "                           primary_cleaner.state.floatbank8_b_level  \\\n",
       "date                                                                  \n",
       "2016-01-15 00:00:00+00:00                               -516.403442   \n",
       "2016-01-15 04:00:00+00:00                               -500.323246   \n",
       "2016-01-15 08:00:00+00:00                               -499.689644   \n",
       "2016-01-15 12:00:00+00:00                               -500.096021   \n",
       "2016-01-15 16:00:00+00:00                               -499.798253   \n",
       "...                                                             ...   \n",
       "2017-12-31 04:59:59+00:00                               -497.929866   \n",
       "2017-12-31 08:59:59+00:00                               -498.848238   \n",
       "2017-12-31 12:59:59+00:00                               -500.118035   \n",
       "2017-12-31 16:59:59+00:00                               -520.946138   \n",
       "2017-12-31 20:59:59+00:00                               -465.963026   \n",
       "\n",
       "                           primary_cleaner.state.floatbank8_c_air  \\\n",
       "date                                                                \n",
       "2016-01-15 00:00:00+00:00                             1549.873901   \n",
       "2016-01-15 04:00:00+00:00                             1599.581894   \n",
       "2016-01-15 08:00:00+00:00                             1601.689285   \n",
       "2016-01-15 12:00:00+00:00                             1597.568005   \n",
       "2016-01-15 16:00:00+00:00                             1598.796914   \n",
       "...                                                           ...   \n",
       "2017-12-31 04:59:59+00:00                             1396.105827   \n",
       "2017-12-31 08:59:59+00:00                             1396.892881   \n",
       "2017-12-31 12:59:59+00:00                             1398.039229   \n",
       "2017-12-31 16:59:59+00:00                             1457.639776   \n",
       "2017-12-31 20:59:59+00:00                             1443.890424   \n",
       "\n",
       "                           primary_cleaner.state.floatbank8_c_level  ...  \\\n",
       "date                                                                 ...   \n",
       "2016-01-15 00:00:00+00:00                               -498.666595  ...   \n",
       "2016-01-15 04:00:00+00:00                               -500.888152  ...   \n",
       "2016-01-15 08:00:00+00:00                               -500.484957  ...   \n",
       "2016-01-15 12:00:00+00:00                               -499.601040  ...   \n",
       "2016-01-15 16:00:00+00:00                               -498.214347  ...   \n",
       "...                                                             ...  ...   \n",
       "2017-12-31 04:59:59+00:00                               -499.376997  ...   \n",
       "2017-12-31 08:59:59+00:00                               -500.193519  ...   \n",
       "2017-12-31 12:59:59+00:00                               -499.647822  ...   \n",
       "2017-12-31 16:59:59+00:00                               -491.907626  ...   \n",
       "2017-12-31 20:59:59+00:00                               -503.587739  ...   \n",
       "\n",
       "                           secondary_cleaner.state.floatbank4_a_air  \\\n",
       "date                                                                  \n",
       "2016-01-15 00:00:00+00:00                                 14.016835   \n",
       "2016-01-15 04:00:00+00:00                                 14.027298   \n",
       "2016-01-15 08:00:00+00:00                                 13.964030   \n",
       "2016-01-15 12:00:00+00:00                                 13.983963   \n",
       "2016-01-15 16:00:00+00:00                                 14.031220   \n",
       "...                                                             ...   \n",
       "2017-12-31 04:59:59+00:00                                 14.045226   \n",
       "2017-12-31 08:59:59+00:00                                 13.978927   \n",
       "2017-12-31 12:59:59+00:00                                 14.019744   \n",
       "2017-12-31 16:59:59+00:00                                 18.864683   \n",
       "2017-12-31 20:59:59+00:00                                 16.749781   \n",
       "\n",
       "                           secondary_cleaner.state.floatbank4_a_level  \\\n",
       "date                                                                    \n",
       "2016-01-15 00:00:00+00:00                                 -502.488007   \n",
       "2016-01-15 04:00:00+00:00                                 -499.838632   \n",
       "2016-01-15 08:00:00+00:00                                 -504.252450   \n",
       "2016-01-15 12:00:00+00:00                                 -503.675714   \n",
       "2016-01-15 16:00:00+00:00                                 -503.471307   \n",
       "...                                                               ...   \n",
       "2017-12-31 04:59:59+00:00                                 -499.421767   \n",
       "2017-12-31 08:59:59+00:00                                 -499.798108   \n",
       "2017-12-31 12:59:59+00:00                                 -500.645051   \n",
       "2017-12-31 16:59:59+00:00                                 -506.142516   \n",
       "2017-12-31 20:59:59+00:00                                 -496.031539   \n",
       "\n",
       "                           secondary_cleaner.state.floatbank4_b_air  \\\n",
       "date                                                                  \n",
       "2016-01-15 00:00:00+00:00                                 12.099931   \n",
       "2016-01-15 04:00:00+00:00                                 11.953070   \n",
       "2016-01-15 08:00:00+00:00                                 12.060738   \n",
       "2016-01-15 12:00:00+00:00                                 11.928745   \n",
       "2016-01-15 16:00:00+00:00                                 11.966426   \n",
       "...                                                             ...   \n",
       "2017-12-31 04:59:59+00:00                                 12.009828   \n",
       "2017-12-31 08:59:59+00:00                                 11.994358   \n",
       "2017-12-31 12:59:59+00:00                                 12.097232   \n",
       "2017-12-31 16:59:59+00:00                                 14.490365   \n",
       "2017-12-31 20:59:59+00:00                                 13.365371   \n",
       "\n",
       "                           secondary_cleaner.state.floatbank4_b_level  \\\n",
       "date                                                                    \n",
       "2016-01-15 00:00:00+00:00                                 -504.715942   \n",
       "2016-01-15 04:00:00+00:00                                 -501.053894   \n",
       "2016-01-15 08:00:00+00:00                                 -501.174549   \n",
       "2016-01-15 12:00:00+00:00                                 -500.583183   \n",
       "2016-01-15 16:00:00+00:00                                 -500.656842   \n",
       "...                                                               ...   \n",
       "2017-12-31 04:59:59+00:00                                 -500.024489   \n",
       "2017-12-31 08:59:59+00:00                                 -499.984593   \n",
       "2017-12-31 12:59:59+00:00                                 -499.918724   \n",
       "2017-12-31 16:59:59+00:00                                 -500.750090   \n",
       "2017-12-31 20:59:59+00:00                                 -499.122723   \n",
       "\n",
       "                           secondary_cleaner.state.floatbank5_a_air  \\\n",
       "date                                                                  \n",
       "2016-01-15 00:00:00+00:00                                  9.925633   \n",
       "2016-01-15 04:00:00+00:00                                  9.925709   \n",
       "2016-01-15 08:00:00+00:00                                 10.033838   \n",
       "2016-01-15 12:00:00+00:00                                  9.970359   \n",
       "2016-01-15 16:00:00+00:00                                 10.051620   \n",
       "...                                                             ...   \n",
       "2017-12-31 04:59:59+00:00                                  7.949260   \n",
       "2017-12-31 08:59:59+00:00                                  8.014689   \n",
       "2017-12-31 12:59:59+00:00                                  8.050697   \n",
       "2017-12-31 16:59:59+00:00                                 10.427824   \n",
       "2017-12-31 20:59:59+00:00                                  9.288553   \n",
       "\n",
       "                           secondary_cleaner.state.floatbank5_a_level  \\\n",
       "date                                                                    \n",
       "2016-01-15 00:00:00+00:00                                 -498.310211   \n",
       "2016-01-15 04:00:00+00:00                                 -501.686727   \n",
       "2016-01-15 08:00:00+00:00                                 -501.178133   \n",
       "2016-01-15 12:00:00+00:00                                 -498.822343   \n",
       "2016-01-15 16:00:00+00:00                                 -498.318772   \n",
       "...                                                               ...   \n",
       "2017-12-31 04:59:59+00:00                                 -499.801473   \n",
       "2017-12-31 08:59:59+00:00                                 -499.943223   \n",
       "2017-12-31 12:59:59+00:00                                 -499.748441   \n",
       "2017-12-31 16:59:59+00:00                                 -503.240854   \n",
       "2017-12-31 20:59:59+00:00                                 -496.892967   \n",
       "\n",
       "                           secondary_cleaner.state.floatbank5_b_air  \\\n",
       "date                                                                  \n",
       "2016-01-15 00:00:00+00:00                                  8.079666   \n",
       "2016-01-15 04:00:00+00:00                                  7.894242   \n",
       "2016-01-15 08:00:00+00:00                                  7.881604   \n",
       "2016-01-15 12:00:00+00:00                                  8.016377   \n",
       "2016-01-15 16:00:00+00:00                                  8.018091   \n",
       "...                                                             ...   \n",
       "2017-12-31 04:59:59+00:00                                  5.959555   \n",
       "2017-12-31 08:59:59+00:00                                  6.000928   \n",
       "2017-12-31 12:59:59+00:00                                  6.009363   \n",
       "2017-12-31 16:59:59+00:00                                  8.502090   \n",
       "2017-12-31 20:59:59+00:00                                  7.372897   \n",
       "\n",
       "                           secondary_cleaner.state.floatbank5_b_level  \\\n",
       "date                                                                    \n",
       "2016-01-15 00:00:00+00:00                                 -500.470978   \n",
       "2016-01-15 04:00:00+00:00                                 -500.356035   \n",
       "2016-01-15 08:00:00+00:00                                 -499.729434   \n",
       "2016-01-15 12:00:00+00:00                                 -499.013145   \n",
       "2016-01-15 16:00:00+00:00                                 -499.696138   \n",
       "...                                                               ...   \n",
       "2017-12-31 04:59:59+00:00                                 -499.785827   \n",
       "2017-12-31 08:59:59+00:00                                 -499.882958   \n",
       "2017-12-31 12:59:59+00:00                                 -499.753859   \n",
       "2017-12-31 16:59:59+00:00                                 -500.193042   \n",
       "2017-12-31 20:59:59+00:00                                 -499.942956   \n",
       "\n",
       "                           secondary_cleaner.state.floatbank6_a_air  \\\n",
       "date                                                                  \n",
       "2016-01-15 00:00:00+00:00                                 14.151341   \n",
       "2016-01-15 04:00:00+00:00                                 13.996647   \n",
       "2016-01-15 08:00:00+00:00                                 13.967135   \n",
       "2016-01-15 12:00:00+00:00                                 14.000032   \n",
       "2016-01-15 16:00:00+00:00                                 13.958937   \n",
       "...                                                             ...   \n",
       "2017-12-31 04:59:59+00:00                                  8.993141   \n",
       "2017-12-31 08:59:59+00:00                                  8.982384   \n",
       "2017-12-31 12:59:59+00:00                                  9.001746   \n",
       "2017-12-31 16:59:59+00:00                                 11.411822   \n",
       "2017-12-31 20:59:59+00:00                                  8.986832   \n",
       "\n",
       "                           secondary_cleaner.state.floatbank6_a_level  \n",
       "date                                                                   \n",
       "2016-01-15 00:00:00+00:00                                 -605.841980  \n",
       "2016-01-15 04:00:00+00:00                                 -601.496691  \n",
       "2016-01-15 08:00:00+00:00                                 -599.061188  \n",
       "2016-01-15 12:00:00+00:00                                 -600.024741  \n",
       "2016-01-15 16:00:00+00:00                                 -599.213013  \n",
       "...                                                               ...  \n",
       "2017-12-31 04:59:59+00:00                                 -508.148163  \n",
       "2017-12-31 08:59:59+00:00                                 -503.605414  \n",
       "2017-12-31 12:59:59+00:00                                 -502.504685  \n",
       "2017-12-31 16:59:59+00:00                                 -500.893381  \n",
       "2017-12-31 20:59:59+00:00                                 -499.903761  \n",
       "\n",
       "[5679 rows x 52 columns]"
      ]
     },
     "execution_count": 19,
     "metadata": {},
     "output_type": "execute_result"
    }
   ],
   "source": [
    "df_grouped = df_all_test.fillna(method = 'ffill')\n",
    "df_grouped.shape\n",
    "df_grouped['hour'] = df_grouped['date'].dt.hour\n",
    "\n",
    "df_tsfresh = df_grouped.reset_index(drop=True).set_index('date')\n",
    "df_tsfresh = df_tsfresh[(df_tsfresh.hour % 4) == 0].drop('hour',axis = 1)\n",
    "df_tsfresh"
   ]
  },
  {
   "cell_type": "code",
   "execution_count": 20,
   "metadata": {},
   "outputs": [
    {
     "data": {
      "text/plain": [
       "{'variance_larger_than_standard_deviation': None,\n",
       " 'has_duplicate_max': None,\n",
       " 'has_duplicate_min': None,\n",
       " 'has_duplicate': None,\n",
       " 'sum_values': None,\n",
       " 'abs_energy': None,\n",
       " 'mean_abs_change': None,\n",
       " 'mean_change': None,\n",
       " 'mean_second_derivative_central': None,\n",
       " 'median': None,\n",
       " 'mean': None,\n",
       " 'length': None,\n",
       " 'standard_deviation': None,\n",
       " 'variance': None,\n",
       " 'skewness': None,\n",
       " 'kurtosis': None,\n",
       " 'absolute_sum_of_changes': None,\n",
       " 'longest_strike_below_mean': None,\n",
       " 'longest_strike_above_mean': None,\n",
       " 'count_above_mean': None,\n",
       " 'count_below_mean': None,\n",
       " 'last_location_of_maximum': None,\n",
       " 'first_location_of_maximum': None,\n",
       " 'last_location_of_minimum': None,\n",
       " 'first_location_of_minimum': None,\n",
       " 'percentage_of_reoccurring_datapoints_to_all_datapoints': None,\n",
       " 'percentage_of_reoccurring_values_to_all_values': None,\n",
       " 'sum_of_reoccurring_values': None,\n",
       " 'sum_of_reoccurring_data_points': None,\n",
       " 'ratio_value_number_to_time_series_length': None,\n",
       " 'maximum': None,\n",
       " 'minimum': None,\n",
       " 'time_reversal_asymmetry_statistic': [{'lag': 1}, {'lag': 2}, {'lag': 3}],\n",
       " 'c3': [{'lag': 1}, {'lag': 2}, {'lag': 3}],\n",
       " 'cid_ce': [{'normalize': True}, {'normalize': False}],\n",
       " 'quantile': [{'q': 0.1},\n",
       "  {'q': 0.2},\n",
       "  {'q': 0.3},\n",
       "  {'q': 0.4},\n",
       "  {'q': 0.6},\n",
       "  {'q': 0.7},\n",
       "  {'q': 0.8},\n",
       "  {'q': 0.9}],\n",
       " 'number_cwt_peaks': [{'n': 1}, {'n': 5}],\n",
       " 'number_peaks': [{'n': 1}, {'n': 3}, {'n': 5}, {'n': 10}, {'n': 50}],\n",
       " 'binned_entropy': [{'max_bins': 10}],\n",
       " 'ar_coefficient': [{'coeff': 0, 'k': 10},\n",
       "  {'coeff': 1, 'k': 10},\n",
       "  {'coeff': 2, 'k': 10},\n",
       "  {'coeff': 3, 'k': 10},\n",
       "  {'coeff': 4, 'k': 10}],\n",
       " 'value_count': [{'value': 0},\n",
       "  {'value': 1},\n",
       "  {'value': nan},\n",
       "  {'value': inf},\n",
       "  {'value': -inf}],\n",
       " 'range_count': [{'min': -1, 'max': 1}],\n",
       " 'linear_trend': [{'attr': 'pvalue'},\n",
       "  {'attr': 'rvalue'},\n",
       "  {'attr': 'intercept'},\n",
       "  {'attr': 'slope'},\n",
       "  {'attr': 'stderr'}],\n",
       " 'augmented_dickey_fuller': [{'attr': 'teststat'},\n",
       "  {'attr': 'pvalue'},\n",
       "  {'attr': 'usedlag'}],\n",
       " 'number_crossing_m': [{'m': 0}, {'m': -1}, {'m': 1}],\n",
       " 'energy_ratio_by_chunks': [{'num_segments': 10, 'segment_focus': 0},\n",
       "  {'num_segments': 10, 'segment_focus': 1},\n",
       "  {'num_segments': 10, 'segment_focus': 2},\n",
       "  {'num_segments': 10, 'segment_focus': 3},\n",
       "  {'num_segments': 10, 'segment_focus': 4},\n",
       "  {'num_segments': 10, 'segment_focus': 5},\n",
       "  {'num_segments': 10, 'segment_focus': 6},\n",
       "  {'num_segments': 10, 'segment_focus': 7},\n",
       "  {'num_segments': 10, 'segment_focus': 8},\n",
       "  {'num_segments': 10, 'segment_focus': 9}],\n",
       " 'ratio_beyond_r_sigma': [{'r': 0.5},\n",
       "  {'r': 1},\n",
       "  {'r': 1.5},\n",
       "  {'r': 2},\n",
       "  {'r': 2.5},\n",
       "  {'r': 3},\n",
       "  {'r': 5},\n",
       "  {'r': 6},\n",
       "  {'r': 7},\n",
       "  {'r': 10}]}"
      ]
     },
     "execution_count": 20,
     "metadata": {},
     "output_type": "execute_result"
    }
   ],
   "source": [
    "from tsfresh.utilities.dataframe_functions import make_forecasting_frame\n",
    "from tsfresh.utilities.dataframe_functions import impute\n",
    "from tsfresh.feature_extraction import extract_features, MinimalFCParameters,EfficientFCParameters\n",
    "d = EfficientFCParameters()\n",
    "del d['friedrich_coefficients']\n",
    "del d['max_langevin_fixed_point']\n",
    "del d['autocorrelation']\n",
    "del d['agg_autocorrelation']\n",
    "del d['cwt_coefficients']\n",
    "del d['large_standard_deviation']\n",
    "del d['symmetry_looking']\n",
    "del d['partial_autocorrelation']\n",
    "del d['index_mass_quantile']\n",
    "del d['spkt_welch_density']\n",
    "del d['change_quantiles']\n",
    "del d['fft_aggregated']\n",
    "del d['fft_coefficient']\n",
    "del d['agg_linear_trend']\n",
    "d"
   ]
  },
  {
   "cell_type": "code",
   "execution_count": 21,
   "metadata": {},
   "outputs": [
    {
     "name": "stdout",
     "output_type": "stream",
     "text": [
      "Working on primary_cleaner.input.copper_sulfate...\n"
     ]
    },
    {
     "name": "stderr",
     "output_type": "stream",
     "text": [
      "/home/geoanton/anaconda3/envs/zinc/lib/python3.7/site-packages/tsfresh/utilities/dataframe_functions.py:394: UserWarning: Your time stamps are not uniformly sampled, which makes rolling nonsensical in some domains.\n",
      "  warnings.warn(\"Your time stamps are not uniformly sampled, which makes rolling \"\n",
      "Feature Extraction: 100%|██████████| 20/20 [00:41<00:00,  2.08s/it]\n"
     ]
    },
    {
     "name": "stdout",
     "output_type": "stream",
     "text": [
      "Working on primary_cleaner.input.depressant...\n"
     ]
    },
    {
     "name": "stderr",
     "output_type": "stream",
     "text": [
      "/home/geoanton/anaconda3/envs/zinc/lib/python3.7/site-packages/tsfresh/utilities/dataframe_functions.py:394: UserWarning: Your time stamps are not uniformly sampled, which makes rolling nonsensical in some domains.\n",
      "  warnings.warn(\"Your time stamps are not uniformly sampled, which makes rolling \"\n",
      "Feature Extraction: 100%|██████████| 20/20 [00:43<00:00,  1.68s/it]\n"
     ]
    },
    {
     "name": "stdout",
     "output_type": "stream",
     "text": [
      "Working on primary_cleaner.input.feed_size...\n"
     ]
    },
    {
     "name": "stderr",
     "output_type": "stream",
     "text": [
      "/home/geoanton/anaconda3/envs/zinc/lib/python3.7/site-packages/tsfresh/utilities/dataframe_functions.py:394: UserWarning: Your time stamps are not uniformly sampled, which makes rolling nonsensical in some domains.\n",
      "  warnings.warn(\"Your time stamps are not uniformly sampled, which makes rolling \"\n",
      "Feature Extraction: 100%|██████████| 20/20 [00:43<00:00,  1.15s/it]\n"
     ]
    },
    {
     "name": "stdout",
     "output_type": "stream",
     "text": [
      "Working on primary_cleaner.input.xanthate...\n"
     ]
    },
    {
     "name": "stderr",
     "output_type": "stream",
     "text": [
      "/home/geoanton/anaconda3/envs/zinc/lib/python3.7/site-packages/tsfresh/utilities/dataframe_functions.py:394: UserWarning: Your time stamps are not uniformly sampled, which makes rolling nonsensical in some domains.\n",
      "  warnings.warn(\"Your time stamps are not uniformly sampled, which makes rolling \"\n",
      "Feature Extraction: 100%|██████████| 20/20 [00:43<00:00,  1.96s/it]\n"
     ]
    },
    {
     "name": "stdout",
     "output_type": "stream",
     "text": [
      "Working on primary_cleaner.state.floatbank8_a_air...\n"
     ]
    },
    {
     "name": "stderr",
     "output_type": "stream",
     "text": [
      "/home/geoanton/anaconda3/envs/zinc/lib/python3.7/site-packages/tsfresh/utilities/dataframe_functions.py:394: UserWarning: Your time stamps are not uniformly sampled, which makes rolling nonsensical in some domains.\n",
      "  warnings.warn(\"Your time stamps are not uniformly sampled, which makes rolling \"\n",
      "Feature Extraction: 100%|██████████| 20/20 [00:42<00:00,  1.30s/it]\n"
     ]
    },
    {
     "name": "stdout",
     "output_type": "stream",
     "text": [
      "Working on primary_cleaner.state.floatbank8_a_level...\n"
     ]
    },
    {
     "name": "stderr",
     "output_type": "stream",
     "text": [
      "/home/geoanton/anaconda3/envs/zinc/lib/python3.7/site-packages/tsfresh/utilities/dataframe_functions.py:394: UserWarning: Your time stamps are not uniformly sampled, which makes rolling nonsensical in some domains.\n",
      "  warnings.warn(\"Your time stamps are not uniformly sampled, which makes rolling \"\n",
      "Feature Extraction: 100%|██████████| 20/20 [00:42<00:00,  2.13s/it]\n"
     ]
    },
    {
     "name": "stdout",
     "output_type": "stream",
     "text": [
      "Working on primary_cleaner.state.floatbank8_b_air...\n"
     ]
    },
    {
     "name": "stderr",
     "output_type": "stream",
     "text": [
      "/home/geoanton/anaconda3/envs/zinc/lib/python3.7/site-packages/tsfresh/utilities/dataframe_functions.py:394: UserWarning: Your time stamps are not uniformly sampled, which makes rolling nonsensical in some domains.\n",
      "  warnings.warn(\"Your time stamps are not uniformly sampled, which makes rolling \"\n",
      "Feature Extraction: 100%|██████████| 20/20 [00:44<00:00,  2.20s/it]\n"
     ]
    },
    {
     "name": "stdout",
     "output_type": "stream",
     "text": [
      "Working on primary_cleaner.state.floatbank8_b_level...\n"
     ]
    },
    {
     "name": "stderr",
     "output_type": "stream",
     "text": [
      "/home/geoanton/anaconda3/envs/zinc/lib/python3.7/site-packages/tsfresh/utilities/dataframe_functions.py:394: UserWarning: Your time stamps are not uniformly sampled, which makes rolling nonsensical in some domains.\n",
      "  warnings.warn(\"Your time stamps are not uniformly sampled, which makes rolling \"\n",
      "Feature Extraction: 100%|██████████| 20/20 [00:43<00:00,  2.81s/it]\n"
     ]
    },
    {
     "name": "stdout",
     "output_type": "stream",
     "text": [
      "Working on primary_cleaner.state.floatbank8_c_air...\n"
     ]
    },
    {
     "name": "stderr",
     "output_type": "stream",
     "text": [
      "/home/geoanton/anaconda3/envs/zinc/lib/python3.7/site-packages/tsfresh/utilities/dataframe_functions.py:394: UserWarning: Your time stamps are not uniformly sampled, which makes rolling nonsensical in some domains.\n",
      "  warnings.warn(\"Your time stamps are not uniformly sampled, which makes rolling \"\n",
      "Feature Extraction: 100%|██████████| 20/20 [00:43<00:00,  2.17s/it]\n"
     ]
    },
    {
     "name": "stdout",
     "output_type": "stream",
     "text": [
      "Working on primary_cleaner.state.floatbank8_c_level...\n"
     ]
    },
    {
     "name": "stderr",
     "output_type": "stream",
     "text": [
      "/home/geoanton/anaconda3/envs/zinc/lib/python3.7/site-packages/tsfresh/utilities/dataframe_functions.py:394: UserWarning: Your time stamps are not uniformly sampled, which makes rolling nonsensical in some domains.\n",
      "  warnings.warn(\"Your time stamps are not uniformly sampled, which makes rolling \"\n",
      "Feature Extraction: 100%|██████████| 20/20 [00:42<00:00,  1.13s/it]\n"
     ]
    },
    {
     "name": "stdout",
     "output_type": "stream",
     "text": [
      "Working on primary_cleaner.state.floatbank8_d_air...\n"
     ]
    },
    {
     "name": "stderr",
     "output_type": "stream",
     "text": [
      "/home/geoanton/anaconda3/envs/zinc/lib/python3.7/site-packages/tsfresh/utilities/dataframe_functions.py:394: UserWarning: Your time stamps are not uniformly sampled, which makes rolling nonsensical in some domains.\n",
      "  warnings.warn(\"Your time stamps are not uniformly sampled, which makes rolling \"\n",
      "Feature Extraction: 100%|██████████| 20/20 [00:43<00:00,  1.35s/it]\n"
     ]
    },
    {
     "name": "stdout",
     "output_type": "stream",
     "text": [
      "Working on primary_cleaner.state.floatbank8_d_level...\n"
     ]
    },
    {
     "name": "stderr",
     "output_type": "stream",
     "text": [
      "/home/geoanton/anaconda3/envs/zinc/lib/python3.7/site-packages/tsfresh/utilities/dataframe_functions.py:394: UserWarning: Your time stamps are not uniformly sampled, which makes rolling nonsensical in some domains.\n",
      "  warnings.warn(\"Your time stamps are not uniformly sampled, which makes rolling \"\n",
      "Feature Extraction: 100%|██████████| 20/20 [00:43<00:00,  1.26s/it]\n"
     ]
    },
    {
     "name": "stdout",
     "output_type": "stream",
     "text": [
      "Working on rougher.input.feed_fe...\n"
     ]
    },
    {
     "name": "stderr",
     "output_type": "stream",
     "text": [
      "/home/geoanton/anaconda3/envs/zinc/lib/python3.7/site-packages/tsfresh/utilities/dataframe_functions.py:394: UserWarning: Your time stamps are not uniformly sampled, which makes rolling nonsensical in some domains.\n",
      "  warnings.warn(\"Your time stamps are not uniformly sampled, which makes rolling \"\n",
      "Feature Extraction: 100%|██████████| 20/20 [00:44<00:00,  1.23s/it]\n"
     ]
    },
    {
     "name": "stdout",
     "output_type": "stream",
     "text": [
      "Working on rougher.input.feed_pb...\n"
     ]
    },
    {
     "name": "stderr",
     "output_type": "stream",
     "text": [
      "/home/geoanton/anaconda3/envs/zinc/lib/python3.7/site-packages/tsfresh/utilities/dataframe_functions.py:394: UserWarning: Your time stamps are not uniformly sampled, which makes rolling nonsensical in some domains.\n",
      "  warnings.warn(\"Your time stamps are not uniformly sampled, which makes rolling \"\n",
      "Feature Extraction: 100%|██████████| 20/20 [00:43<00:00,  2.18s/it]\n"
     ]
    },
    {
     "name": "stdout",
     "output_type": "stream",
     "text": [
      "Working on rougher.input.feed_rate...\n"
     ]
    },
    {
     "name": "stderr",
     "output_type": "stream",
     "text": [
      "/home/geoanton/anaconda3/envs/zinc/lib/python3.7/site-packages/tsfresh/utilities/dataframe_functions.py:394: UserWarning: Your time stamps are not uniformly sampled, which makes rolling nonsensical in some domains.\n",
      "  warnings.warn(\"Your time stamps are not uniformly sampled, which makes rolling \"\n",
      "Feature Extraction: 100%|██████████| 20/20 [00:42<00:00,  2.56s/it]\n"
     ]
    },
    {
     "name": "stdout",
     "output_type": "stream",
     "text": [
      "Working on rougher.input.feed_size...\n"
     ]
    },
    {
     "name": "stderr",
     "output_type": "stream",
     "text": [
      "/home/geoanton/anaconda3/envs/zinc/lib/python3.7/site-packages/tsfresh/utilities/dataframe_functions.py:394: UserWarning: Your time stamps are not uniformly sampled, which makes rolling nonsensical in some domains.\n",
      "  warnings.warn(\"Your time stamps are not uniformly sampled, which makes rolling \"\n",
      "Feature Extraction: 100%|██████████| 20/20 [00:43<00:00,  1.34s/it]\n"
     ]
    },
    {
     "name": "stdout",
     "output_type": "stream",
     "text": [
      "Working on rougher.input.feed_sol...\n"
     ]
    },
    {
     "name": "stderr",
     "output_type": "stream",
     "text": [
      "/home/geoanton/anaconda3/envs/zinc/lib/python3.7/site-packages/tsfresh/utilities/dataframe_functions.py:394: UserWarning: Your time stamps are not uniformly sampled, which makes rolling nonsensical in some domains.\n",
      "  warnings.warn(\"Your time stamps are not uniformly sampled, which makes rolling \"\n",
      "Feature Extraction: 100%|██████████| 20/20 [00:53<00:00,  1.87s/it]\n"
     ]
    },
    {
     "name": "stdout",
     "output_type": "stream",
     "text": [
      "Working on rougher.input.feed_zn...\n"
     ]
    },
    {
     "name": "stderr",
     "output_type": "stream",
     "text": [
      "/home/geoanton/anaconda3/envs/zinc/lib/python3.7/site-packages/tsfresh/utilities/dataframe_functions.py:394: UserWarning: Your time stamps are not uniformly sampled, which makes rolling nonsensical in some domains.\n",
      "  warnings.warn(\"Your time stamps are not uniformly sampled, which makes rolling \"\n",
      "Feature Extraction: 100%|██████████| 20/20 [00:51<00:00,  1.63s/it]\n"
     ]
    },
    {
     "name": "stdout",
     "output_type": "stream",
     "text": [
      "Working on rougher.input.floatbank10_copper_sulfate...\n"
     ]
    },
    {
     "name": "stderr",
     "output_type": "stream",
     "text": [
      "/home/geoanton/anaconda3/envs/zinc/lib/python3.7/site-packages/tsfresh/utilities/dataframe_functions.py:394: UserWarning: Your time stamps are not uniformly sampled, which makes rolling nonsensical in some domains.\n",
      "  warnings.warn(\"Your time stamps are not uniformly sampled, which makes rolling \"\n",
      "Feature Extraction: 100%|██████████| 20/20 [00:44<00:00,  1.31s/it]\n"
     ]
    },
    {
     "name": "stdout",
     "output_type": "stream",
     "text": [
      "Working on rougher.input.floatbank10_xanthate...\n"
     ]
    },
    {
     "name": "stderr",
     "output_type": "stream",
     "text": [
      "/home/geoanton/anaconda3/envs/zinc/lib/python3.7/site-packages/tsfresh/utilities/dataframe_functions.py:394: UserWarning: Your time stamps are not uniformly sampled, which makes rolling nonsensical in some domains.\n",
      "  warnings.warn(\"Your time stamps are not uniformly sampled, which makes rolling \"\n",
      "Feature Extraction: 100%|██████████| 20/20 [00:43<00:00,  1.60s/it]\n"
     ]
    },
    {
     "name": "stdout",
     "output_type": "stream",
     "text": [
      "Working on rougher.input.floatbank11_copper_sulfate...\n"
     ]
    },
    {
     "name": "stderr",
     "output_type": "stream",
     "text": [
      "/home/geoanton/anaconda3/envs/zinc/lib/python3.7/site-packages/tsfresh/utilities/dataframe_functions.py:394: UserWarning: Your time stamps are not uniformly sampled, which makes rolling nonsensical in some domains.\n",
      "  warnings.warn(\"Your time stamps are not uniformly sampled, which makes rolling \"\n",
      "Feature Extraction: 100%|██████████| 20/20 [00:43<00:00,  2.16s/it]\n"
     ]
    },
    {
     "name": "stdout",
     "output_type": "stream",
     "text": [
      "Working on rougher.input.floatbank11_xanthate...\n"
     ]
    },
    {
     "name": "stderr",
     "output_type": "stream",
     "text": [
      "/home/geoanton/anaconda3/envs/zinc/lib/python3.7/site-packages/tsfresh/utilities/dataframe_functions.py:394: UserWarning: Your time stamps are not uniformly sampled, which makes rolling nonsensical in some domains.\n",
      "  warnings.warn(\"Your time stamps are not uniformly sampled, which makes rolling \"\n",
      "Feature Extraction: 100%|██████████| 20/20 [00:48<00:00,  1.48s/it]\n"
     ]
    },
    {
     "name": "stdout",
     "output_type": "stream",
     "text": [
      "Working on rougher.state.floatbank10_a_air...\n"
     ]
    },
    {
     "name": "stderr",
     "output_type": "stream",
     "text": [
      "/home/geoanton/anaconda3/envs/zinc/lib/python3.7/site-packages/tsfresh/utilities/dataframe_functions.py:394: UserWarning: Your time stamps are not uniformly sampled, which makes rolling nonsensical in some domains.\n",
      "  warnings.warn(\"Your time stamps are not uniformly sampled, which makes rolling \"\n",
      "Feature Extraction: 100%|██████████| 20/20 [00:52<00:00,  1.49s/it]\n"
     ]
    },
    {
     "name": "stdout",
     "output_type": "stream",
     "text": [
      "Working on rougher.state.floatbank10_a_level...\n"
     ]
    },
    {
     "name": "stderr",
     "output_type": "stream",
     "text": [
      "/home/geoanton/anaconda3/envs/zinc/lib/python3.7/site-packages/tsfresh/utilities/dataframe_functions.py:394: UserWarning: Your time stamps are not uniformly sampled, which makes rolling nonsensical in some domains.\n",
      "  warnings.warn(\"Your time stamps are not uniformly sampled, which makes rolling \"\n",
      "Feature Extraction: 100%|██████████| 20/20 [00:47<00:00,  2.40s/it]\n"
     ]
    },
    {
     "name": "stdout",
     "output_type": "stream",
     "text": [
      "Working on rougher.state.floatbank10_b_air...\n"
     ]
    },
    {
     "name": "stderr",
     "output_type": "stream",
     "text": [
      "/home/geoanton/anaconda3/envs/zinc/lib/python3.7/site-packages/tsfresh/utilities/dataframe_functions.py:394: UserWarning: Your time stamps are not uniformly sampled, which makes rolling nonsensical in some domains.\n",
      "  warnings.warn(\"Your time stamps are not uniformly sampled, which makes rolling \"\n",
      "Feature Extraction: 100%|██████████| 20/20 [00:47<00:00,  2.38s/it]\n"
     ]
    },
    {
     "name": "stdout",
     "output_type": "stream",
     "text": [
      "Working on rougher.state.floatbank10_b_level...\n"
     ]
    },
    {
     "name": "stderr",
     "output_type": "stream",
     "text": [
      "/home/geoanton/anaconda3/envs/zinc/lib/python3.7/site-packages/tsfresh/utilities/dataframe_functions.py:394: UserWarning: Your time stamps are not uniformly sampled, which makes rolling nonsensical in some domains.\n",
      "  warnings.warn(\"Your time stamps are not uniformly sampled, which makes rolling \"\n",
      "Feature Extraction: 100%|██████████| 20/20 [00:46<00:00,  2.20s/it]\n"
     ]
    },
    {
     "name": "stdout",
     "output_type": "stream",
     "text": [
      "Working on rougher.state.floatbank10_c_air...\n"
     ]
    },
    {
     "name": "stderr",
     "output_type": "stream",
     "text": [
      "/home/geoanton/anaconda3/envs/zinc/lib/python3.7/site-packages/tsfresh/utilities/dataframe_functions.py:394: UserWarning: Your time stamps are not uniformly sampled, which makes rolling nonsensical in some domains.\n",
      "  warnings.warn(\"Your time stamps are not uniformly sampled, which makes rolling \"\n",
      "Feature Extraction: 100%|██████████| 20/20 [00:46<00:00,  1.36s/it]\n"
     ]
    },
    {
     "name": "stdout",
     "output_type": "stream",
     "text": [
      "Working on rougher.state.floatbank10_c_level...\n"
     ]
    },
    {
     "name": "stderr",
     "output_type": "stream",
     "text": [
      "/home/geoanton/anaconda3/envs/zinc/lib/python3.7/site-packages/tsfresh/utilities/dataframe_functions.py:394: UserWarning: Your time stamps are not uniformly sampled, which makes rolling nonsensical in some domains.\n",
      "  warnings.warn(\"Your time stamps are not uniformly sampled, which makes rolling \"\n",
      "Feature Extraction: 100%|██████████| 20/20 [00:46<00:00,  1.60s/it]\n"
     ]
    },
    {
     "name": "stdout",
     "output_type": "stream",
     "text": [
      "Working on rougher.state.floatbank10_d_air...\n"
     ]
    },
    {
     "name": "stderr",
     "output_type": "stream",
     "text": [
      "/home/geoanton/anaconda3/envs/zinc/lib/python3.7/site-packages/tsfresh/utilities/dataframe_functions.py:394: UserWarning: Your time stamps are not uniformly sampled, which makes rolling nonsensical in some domains.\n",
      "  warnings.warn(\"Your time stamps are not uniformly sampled, which makes rolling \"\n",
      "Feature Extraction: 100%|██████████| 20/20 [00:46<00:00,  1.44s/it]\n"
     ]
    },
    {
     "name": "stdout",
     "output_type": "stream",
     "text": [
      "Working on rougher.state.floatbank10_d_level...\n"
     ]
    },
    {
     "name": "stderr",
     "output_type": "stream",
     "text": [
      "/home/geoanton/anaconda3/envs/zinc/lib/python3.7/site-packages/tsfresh/utilities/dataframe_functions.py:394: UserWarning: Your time stamps are not uniformly sampled, which makes rolling nonsensical in some domains.\n",
      "  warnings.warn(\"Your time stamps are not uniformly sampled, which makes rolling \"\n",
      "Feature Extraction: 100%|██████████| 20/20 [00:43<00:00,  1.21s/it]\n"
     ]
    },
    {
     "name": "stdout",
     "output_type": "stream",
     "text": [
      "Working on rougher.state.floatbank10_e_air...\n"
     ]
    },
    {
     "name": "stderr",
     "output_type": "stream",
     "text": [
      "/home/geoanton/anaconda3/envs/zinc/lib/python3.7/site-packages/tsfresh/utilities/dataframe_functions.py:394: UserWarning: Your time stamps are not uniformly sampled, which makes rolling nonsensical in some domains.\n",
      "  warnings.warn(\"Your time stamps are not uniformly sampled, which makes rolling \"\n",
      "Feature Extraction: 100%|██████████| 20/20 [00:55<00:00,  2.18s/it]\n"
     ]
    },
    {
     "name": "stdout",
     "output_type": "stream",
     "text": [
      "Working on rougher.state.floatbank10_e_level...\n"
     ]
    },
    {
     "name": "stderr",
     "output_type": "stream",
     "text": [
      "/home/geoanton/anaconda3/envs/zinc/lib/python3.7/site-packages/tsfresh/utilities/dataframe_functions.py:394: UserWarning: Your time stamps are not uniformly sampled, which makes rolling nonsensical in some domains.\n",
      "  warnings.warn(\"Your time stamps are not uniformly sampled, which makes rolling \"\n",
      "Feature Extraction: 100%|██████████| 20/20 [00:48<00:00,  1.56s/it]\n"
     ]
    },
    {
     "name": "stdout",
     "output_type": "stream",
     "text": [
      "Working on rougher.state.floatbank10_f_air...\n"
     ]
    },
    {
     "name": "stderr",
     "output_type": "stream",
     "text": [
      "/home/geoanton/anaconda3/envs/zinc/lib/python3.7/site-packages/tsfresh/utilities/dataframe_functions.py:394: UserWarning: Your time stamps are not uniformly sampled, which makes rolling nonsensical in some domains.\n",
      "  warnings.warn(\"Your time stamps are not uniformly sampled, which makes rolling \"\n",
      "Feature Extraction: 100%|██████████| 20/20 [00:49<00:00,  2.79s/it]\n"
     ]
    },
    {
     "name": "stdout",
     "output_type": "stream",
     "text": [
      "Working on rougher.state.floatbank10_f_level...\n"
     ]
    },
    {
     "name": "stderr",
     "output_type": "stream",
     "text": [
      "/home/geoanton/anaconda3/envs/zinc/lib/python3.7/site-packages/tsfresh/utilities/dataframe_functions.py:394: UserWarning: Your time stamps are not uniformly sampled, which makes rolling nonsensical in some domains.\n",
      "  warnings.warn(\"Your time stamps are not uniformly sampled, which makes rolling \"\n",
      "Feature Extraction: 100%|██████████| 20/20 [00:44<00:00,  1.84s/it]\n"
     ]
    },
    {
     "name": "stdout",
     "output_type": "stream",
     "text": [
      "Working on secondary_cleaner.state.floatbank2_a_air...\n"
     ]
    },
    {
     "name": "stderr",
     "output_type": "stream",
     "text": [
      "/home/geoanton/anaconda3/envs/zinc/lib/python3.7/site-packages/tsfresh/utilities/dataframe_functions.py:394: UserWarning: Your time stamps are not uniformly sampled, which makes rolling nonsensical in some domains.\n",
      "  warnings.warn(\"Your time stamps are not uniformly sampled, which makes rolling \"\n",
      "Feature Extraction: 100%|██████████| 20/20 [00:44<00:00,  1.43s/it]\n"
     ]
    },
    {
     "name": "stdout",
     "output_type": "stream",
     "text": [
      "Working on secondary_cleaner.state.floatbank2_a_level...\n"
     ]
    },
    {
     "name": "stderr",
     "output_type": "stream",
     "text": [
      "/home/geoanton/anaconda3/envs/zinc/lib/python3.7/site-packages/tsfresh/utilities/dataframe_functions.py:394: UserWarning: Your time stamps are not uniformly sampled, which makes rolling nonsensical in some domains.\n",
      "  warnings.warn(\"Your time stamps are not uniformly sampled, which makes rolling \"\n",
      "Feature Extraction: 100%|██████████| 20/20 [00:43<00:00,  1.02it/s]\n"
     ]
    },
    {
     "name": "stdout",
     "output_type": "stream",
     "text": [
      "Working on secondary_cleaner.state.floatbank2_b_air...\n"
     ]
    },
    {
     "name": "stderr",
     "output_type": "stream",
     "text": [
      "/home/geoanton/anaconda3/envs/zinc/lib/python3.7/site-packages/tsfresh/utilities/dataframe_functions.py:394: UserWarning: Your time stamps are not uniformly sampled, which makes rolling nonsensical in some domains.\n",
      "  warnings.warn(\"Your time stamps are not uniformly sampled, which makes rolling \"\n",
      "Feature Extraction: 100%|██████████| 20/20 [00:45<00:00,  1.36s/it]\n"
     ]
    },
    {
     "name": "stdout",
     "output_type": "stream",
     "text": [
      "Working on secondary_cleaner.state.floatbank2_b_level...\n"
     ]
    },
    {
     "name": "stderr",
     "output_type": "stream",
     "text": [
      "/home/geoanton/anaconda3/envs/zinc/lib/python3.7/site-packages/tsfresh/utilities/dataframe_functions.py:394: UserWarning: Your time stamps are not uniformly sampled, which makes rolling nonsensical in some domains.\n",
      "  warnings.warn(\"Your time stamps are not uniformly sampled, which makes rolling \"\n",
      "Feature Extraction: 100%|██████████| 20/20 [00:49<00:00,  2.10s/it]\n"
     ]
    },
    {
     "name": "stdout",
     "output_type": "stream",
     "text": [
      "Working on secondary_cleaner.state.floatbank3_a_air...\n"
     ]
    },
    {
     "name": "stderr",
     "output_type": "stream",
     "text": [
      "/home/geoanton/anaconda3/envs/zinc/lib/python3.7/site-packages/tsfresh/utilities/dataframe_functions.py:394: UserWarning: Your time stamps are not uniformly sampled, which makes rolling nonsensical in some domains.\n",
      "  warnings.warn(\"Your time stamps are not uniformly sampled, which makes rolling \"\n",
      "Feature Extraction: 100%|██████████| 20/20 [00:49<00:00,  1.22s/it]\n"
     ]
    },
    {
     "name": "stdout",
     "output_type": "stream",
     "text": [
      "Working on secondary_cleaner.state.floatbank3_a_level...\n"
     ]
    },
    {
     "name": "stderr",
     "output_type": "stream",
     "text": [
      "/home/geoanton/anaconda3/envs/zinc/lib/python3.7/site-packages/tsfresh/utilities/dataframe_functions.py:394: UserWarning: Your time stamps are not uniformly sampled, which makes rolling nonsensical in some domains.\n",
      "  warnings.warn(\"Your time stamps are not uniformly sampled, which makes rolling \"\n",
      "Feature Extraction: 100%|██████████| 20/20 [00:49<00:00,  1.51s/it]\n"
     ]
    },
    {
     "name": "stdout",
     "output_type": "stream",
     "text": [
      "Working on secondary_cleaner.state.floatbank3_b_air...\n"
     ]
    },
    {
     "name": "stderr",
     "output_type": "stream",
     "text": [
      "/home/geoanton/anaconda3/envs/zinc/lib/python3.7/site-packages/tsfresh/utilities/dataframe_functions.py:394: UserWarning: Your time stamps are not uniformly sampled, which makes rolling nonsensical in some domains.\n",
      "  warnings.warn(\"Your time stamps are not uniformly sampled, which makes rolling \"\n",
      "Feature Extraction: 100%|██████████| 20/20 [00:45<00:00,  2.27s/it]\n"
     ]
    },
    {
     "name": "stdout",
     "output_type": "stream",
     "text": [
      "Working on secondary_cleaner.state.floatbank3_b_level...\n"
     ]
    },
    {
     "name": "stderr",
     "output_type": "stream",
     "text": [
      "/home/geoanton/anaconda3/envs/zinc/lib/python3.7/site-packages/tsfresh/utilities/dataframe_functions.py:394: UserWarning: Your time stamps are not uniformly sampled, which makes rolling nonsensical in some domains.\n",
      "  warnings.warn(\"Your time stamps are not uniformly sampled, which makes rolling \"\n",
      "Feature Extraction: 100%|██████████| 20/20 [00:48<00:00,  1.45s/it]\n"
     ]
    },
    {
     "name": "stdout",
     "output_type": "stream",
     "text": [
      "Working on secondary_cleaner.state.floatbank4_a_air...\n"
     ]
    },
    {
     "name": "stderr",
     "output_type": "stream",
     "text": [
      "/home/geoanton/anaconda3/envs/zinc/lib/python3.7/site-packages/tsfresh/utilities/dataframe_functions.py:394: UserWarning: Your time stamps are not uniformly sampled, which makes rolling nonsensical in some domains.\n",
      "  warnings.warn(\"Your time stamps are not uniformly sampled, which makes rolling \"\n",
      "Feature Extraction: 100%|██████████| 20/20 [00:49<00:00,  2.46s/it]\n"
     ]
    },
    {
     "name": "stdout",
     "output_type": "stream",
     "text": [
      "Working on secondary_cleaner.state.floatbank4_a_level...\n"
     ]
    },
    {
     "name": "stderr",
     "output_type": "stream",
     "text": [
      "/home/geoanton/anaconda3/envs/zinc/lib/python3.7/site-packages/tsfresh/utilities/dataframe_functions.py:394: UserWarning: Your time stamps are not uniformly sampled, which makes rolling nonsensical in some domains.\n",
      "  warnings.warn(\"Your time stamps are not uniformly sampled, which makes rolling \"\n",
      "Feature Extraction: 100%|██████████| 20/20 [00:47<00:00,  1.92s/it]\n"
     ]
    },
    {
     "name": "stdout",
     "output_type": "stream",
     "text": [
      "Working on secondary_cleaner.state.floatbank4_b_air...\n"
     ]
    },
    {
     "name": "stderr",
     "output_type": "stream",
     "text": [
      "/home/geoanton/anaconda3/envs/zinc/lib/python3.7/site-packages/tsfresh/utilities/dataframe_functions.py:394: UserWarning: Your time stamps are not uniformly sampled, which makes rolling nonsensical in some domains.\n",
      "  warnings.warn(\"Your time stamps are not uniformly sampled, which makes rolling \"\n",
      "Feature Extraction: 100%|██████████| 20/20 [00:46<00:00,  1.79s/it]\n"
     ]
    },
    {
     "name": "stdout",
     "output_type": "stream",
     "text": [
      "Working on secondary_cleaner.state.floatbank4_b_level...\n"
     ]
    },
    {
     "name": "stderr",
     "output_type": "stream",
     "text": [
      "/home/geoanton/anaconda3/envs/zinc/lib/python3.7/site-packages/tsfresh/utilities/dataframe_functions.py:394: UserWarning: Your time stamps are not uniformly sampled, which makes rolling nonsensical in some domains.\n",
      "  warnings.warn(\"Your time stamps are not uniformly sampled, which makes rolling \"\n",
      "Feature Extraction: 100%|██████████| 20/20 [00:47<00:00,  1.49s/it]\n"
     ]
    },
    {
     "name": "stdout",
     "output_type": "stream",
     "text": [
      "Working on secondary_cleaner.state.floatbank5_a_air...\n"
     ]
    },
    {
     "name": "stderr",
     "output_type": "stream",
     "text": [
      "/home/geoanton/anaconda3/envs/zinc/lib/python3.7/site-packages/tsfresh/utilities/dataframe_functions.py:394: UserWarning: Your time stamps are not uniformly sampled, which makes rolling nonsensical in some domains.\n",
      "  warnings.warn(\"Your time stamps are not uniformly sampled, which makes rolling \"\n",
      "Feature Extraction: 100%|██████████| 20/20 [00:50<00:00,  1.67s/it]\n"
     ]
    },
    {
     "name": "stdout",
     "output_type": "stream",
     "text": [
      "Working on secondary_cleaner.state.floatbank5_a_level...\n"
     ]
    },
    {
     "name": "stderr",
     "output_type": "stream",
     "text": [
      "/home/geoanton/anaconda3/envs/zinc/lib/python3.7/site-packages/tsfresh/utilities/dataframe_functions.py:394: UserWarning: Your time stamps are not uniformly sampled, which makes rolling nonsensical in some domains.\n",
      "  warnings.warn(\"Your time stamps are not uniformly sampled, which makes rolling \"\n",
      "Feature Extraction: 100%|██████████| 20/20 [00:47<00:00,  1.40s/it]\n"
     ]
    },
    {
     "name": "stdout",
     "output_type": "stream",
     "text": [
      "Working on secondary_cleaner.state.floatbank5_b_air...\n"
     ]
    },
    {
     "name": "stderr",
     "output_type": "stream",
     "text": [
      "/home/geoanton/anaconda3/envs/zinc/lib/python3.7/site-packages/tsfresh/utilities/dataframe_functions.py:394: UserWarning: Your time stamps are not uniformly sampled, which makes rolling nonsensical in some domains.\n",
      "  warnings.warn(\"Your time stamps are not uniformly sampled, which makes rolling \"\n",
      "Feature Extraction: 100%|██████████| 20/20 [00:50<00:00,  2.51s/it]\n"
     ]
    },
    {
     "name": "stdout",
     "output_type": "stream",
     "text": [
      "Working on secondary_cleaner.state.floatbank5_b_level...\n"
     ]
    },
    {
     "name": "stderr",
     "output_type": "stream",
     "text": [
      "/home/geoanton/anaconda3/envs/zinc/lib/python3.7/site-packages/tsfresh/utilities/dataframe_functions.py:394: UserWarning: Your time stamps are not uniformly sampled, which makes rolling nonsensical in some domains.\n",
      "  warnings.warn(\"Your time stamps are not uniformly sampled, which makes rolling \"\n",
      "Feature Extraction: 100%|██████████| 20/20 [00:45<00:00,  2.29s/it]\n"
     ]
    },
    {
     "name": "stdout",
     "output_type": "stream",
     "text": [
      "Working on secondary_cleaner.state.floatbank6_a_air...\n"
     ]
    },
    {
     "name": "stderr",
     "output_type": "stream",
     "text": [
      "/home/geoanton/anaconda3/envs/zinc/lib/python3.7/site-packages/tsfresh/utilities/dataframe_functions.py:394: UserWarning: Your time stamps are not uniformly sampled, which makes rolling nonsensical in some domains.\n",
      "  warnings.warn(\"Your time stamps are not uniformly sampled, which makes rolling \"\n",
      "Feature Extraction: 100%|██████████| 20/20 [00:49<00:00,  1.49s/it]\n"
     ]
    },
    {
     "name": "stdout",
     "output_type": "stream",
     "text": [
      "Working on secondary_cleaner.state.floatbank6_a_level...\n"
     ]
    },
    {
     "name": "stderr",
     "output_type": "stream",
     "text": [
      "/home/geoanton/anaconda3/envs/zinc/lib/python3.7/site-packages/tsfresh/utilities/dataframe_functions.py:394: UserWarning: Your time stamps are not uniformly sampled, which makes rolling nonsensical in some domains.\n",
      "  warnings.warn(\"Your time stamps are not uniformly sampled, which makes rolling \"\n",
      "Feature Extraction: 100%|██████████| 20/20 [00:50<00:00,  1.32s/it]\n"
     ]
    }
   ],
   "source": [
    "#df_features = extract_features(df_grouped[[\"primary_cleaner.state.floatbank8_a_air\",'date','id']].head(1000), column_sort=\"date\",column_id='id',n_jobs=4)\n",
    "dfs = {}\n",
    "for c in df_tsfresh.columns:\n",
    "    print(f'Working on {c}...')\n",
    "    df_shift, y = make_forecasting_frame(df_tsfresh[c], kind=\"price\", max_timeshift=3*10, rolling_direction=1)\n",
    "    X = extract_features(df_shift, column_id=\"id\", column_sort=\"time\", column_value=\"value\",\n",
    "                         impute_function=impute,show_warnings=False, default_fc_parameters=d,n_jobs=4)\n",
    "    dfs[c] = X"
   ]
  },
  {
   "cell_type": "code",
   "execution_count": 48,
   "metadata": {},
   "outputs": [
    {
     "data": {
      "text/plain": [
       "(3999, 403)"
      ]
     },
     "execution_count": 48,
     "metadata": {},
     "output_type": "execute_result"
    }
   ],
   "source": [
    "cols = X.apply(np.any)\n",
    "X.loc[:,cols].shape"
   ]
  },
  {
   "cell_type": "code",
   "execution_count": 25,
   "metadata": {},
   "outputs": [
    {
     "data": {
      "text/plain": [
       "(5678, 98)"
      ]
     },
     "execution_count": 25,
     "metadata": {},
     "output_type": "execute_result"
    }
   ],
   "source": [
    "dfs['primary_cleaner.input.copper_sulfate']"
   ]
  },
  {
   "cell_type": "code",
   "execution_count": 29,
   "metadata": {},
   "outputs": [],
   "source": [
    "df_tsfresh_feats = pd.concat(dfs,keys = list(dfs.keys()))\n",
    "df_tsfresh_feats.to_csv('../data/processed/tsfresh_feats_every4.csv')"
   ]
  },
  {
   "cell_type": "code",
   "execution_count": 32,
   "metadata": {},
   "outputs": [],
   "source": [
    "a = df_grouped['date'].sample(10)"
   ]
  },
  {
   "cell_type": "code",
   "execution_count": 38,
   "metadata": {},
   "outputs": [
    {
     "data": {
      "text/plain": [
       "train  15219    24\n",
       "test   3650     39\n",
       "train  11739     3\n",
       "test   5352     50\n",
       "train  2788     19\n",
       "       6457      6\n",
       "test   5070     48\n",
       "       2443     49\n",
       "train  3658     24\n",
       "test   5267     49\n",
       "Name: date, dtype: int64"
      ]
     },
     "execution_count": 38,
     "metadata": {},
     "output_type": "execute_result"
    }
   ],
   "source": []
  },
  {
   "cell_type": "code",
   "execution_count": null,
   "metadata": {},
   "outputs": [],
   "source": []
  }
 ],
 "metadata": {
  "kernelspec": {
   "display_name": "Python 3",
   "language": "python",
   "name": "python3"
  },
  "language_info": {
   "codemirror_mode": {
    "name": "ipython",
    "version": 3
   },
   "file_extension": ".py",
   "mimetype": "text/x-python",
   "name": "python",
   "nbconvert_exporter": "python",
   "pygments_lexer": "ipython3",
   "version": "3.7.1"
  }
 },
 "nbformat": 4,
 "nbformat_minor": 2
}
