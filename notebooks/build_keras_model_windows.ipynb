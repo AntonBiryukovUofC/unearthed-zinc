{
 "cells": [
  {
   "cell_type": "code",
   "execution_count": 1,
   "metadata": {},
   "outputs": [
    {
     "name": "stderr",
     "output_type": "stream",
     "text": [
      "Using TensorFlow backend.\n"
     ]
    }
   ],
   "source": [
    "import pandas as pd\n",
    "import seaborn as sns\n",
    "import numpy as np\n",
    "import altair as alt\n",
    "import matplotlib.pyplot as plt\n",
    "import os\n",
    "import sys\n",
    "from ocp_table_tpot.globals import Globals as gd\n",
    "from tpot import TPOTRegressor\n",
    "sys.path.insert(0,'..')\n",
    "from src.models.model import HistoricalMedian,XGBoost,LinearModel,RF,KNN,SVM,mase,TimeSeriesSplitImproved\n",
    "from sklearn.linear_model import ElasticNet, Lasso,  BayesianRidge, LassoLarsIC,RANSACRegressor\n",
    "from sklearn.ensemble import RandomForestRegressor,  GradientBoostingRegressor,ExtraTreesRegressor\n",
    "from sklearn.kernel_ridge import KernelRidge\n",
    "from sklearn.pipeline import make_pipeline\n",
    "from sklearn.preprocessing import RobustScaler,MinMaxScaler,PolynomialFeatures,StandardScaler\n",
    "from sklearn.base import BaseEstimator, TransformerMixin, RegressorMixin, clone\n",
    "from sklearn.model_selection import KFold, cross_val_score, train_test_split,cross_val_predict\n",
    "from skgarden.quantile import RandomForestQuantileRegressor\n",
    "from sklearn.metrics import mean_squared_error,make_scorer\n",
    "from sklearn.preprocessing import FunctionTransformer\n",
    "\n",
    "from copy import copy\n",
    "from tpot.builtins import StackingEstimator\n",
    "from lightgbm import LGBMRegressor\n",
    "import xgboost as xgb\n",
    "import lightgbm as lgb\n",
    "from sklearn.pipeline import make_pipeline, make_union\n",
    "from catboost import CatBoostRegressor,Pool,cv\n",
    "sys.path.insert(0,'..')\n",
    "from src.models.model import HistoricalMedian,XGBoost,LinearModel,RF,KNN,SVM,mase\n",
    "from src.data.make_dataset import DROPCOLS\n",
    "import tensorflow as tf\n",
    "config = tf.ConfigProto()\n",
    "config.gpu_options.allow_growth = True"
   ]
  },
  {
   "cell_type": "markdown",
   "metadata": {},
   "source": [
    "## Load data"
   ]
  },
  {
   "cell_type": "code",
   "execution_count": 2,
   "metadata": {},
   "outputs": [],
   "source": [
    "df_tsfresh = pd.read_pickle(f'../data/processed/train_test_tsfresh.pkl').reset_index(level = 0)\n",
    "data_dict = pd.read_pickle(f'../data/processed/data_dict_all.pkl')"
   ]
  },
  {
   "cell_type": "code",
   "execution_count": 3,
   "metadata": {},
   "outputs": [
    {
     "name": "stdout",
     "output_type": "stream",
     "text": [
      "X = (16860, 65) y = (16860, 7)\n",
      "DROPNA X = (16860, 65) DROPNA y = (15339,)\n"
     ]
    }
   ],
   "source": [
    "# For Final \n",
    "tgt = 'final.output.recovery'\n",
    "\n",
    "year = 2019\n",
    "X = data_dict[year]['X_train'].astype(float).drop(DROPCOLS,axis = 1)\n",
    "y = data_dict[year]['y_train'].astype(float)\n",
    "# Add Lags:\n",
    "mask_weights = ((y[tgt] > 41) & (y[tgt] < 100))\n",
    "print(f'X = {X.shape} y = {y.shape}')\n",
    "print(f'DROPNA X = {X.dropna().shape} DROPNA y = {y[tgt].dropna().shape}')\n"
   ]
  },
  {
   "cell_type": "markdown",
   "metadata": {},
   "source": [
    "## Prepare the windowed data"
   ]
  },
  {
   "cell_type": "code",
   "execution_count": 4,
   "metadata": {},
   "outputs": [],
   "source": [
    "# window_step = 24 # in hours\n",
    "# window_overlap = 12 # in hours\n",
    "# Xm = X.values\n",
    "# i=1\n",
    "# st = window_step - window_overlap)\n",
    "# window = Xm[window_step*(i):window_step*(i+1),].reshape(1,24,65)\n",
    "\n",
    "def cut_cycle(data_cycle, overlap = 0.8, base_length = 150):\n",
    "    step = int((1-overlap) * base_length)\n",
    "    n_windows = np.ceil( (data_cycle.shape[0] - base_length)/step)\n",
    "    indexer = np.arange(base_length)[None, :] + step * np.arange( n_windows )[:, None]\n",
    "    return indexer.astype('int'), int(n_windows)\n",
    "def produce_training_data(X,y,tgt = 'final.output.recovery',ov=0.9):\n",
    "    \n",
    "    a,b = cut_cycle(y,overlap = ov,base_length=24)\n",
    "    Xwind = X[a,:]\n",
    "    ywind = y.iloc[a[:,-1],]\n",
    "    mask_weights = ((y[tgt] > 41) & (y[tgt] < 100))\n",
    "    maskwind = mask_weights.iloc[a[:,-1],]\n",
    "    ywind[\"mask\"] = maskwind\n",
    "    return Xwind,ywind\n"
   ]
  },
  {
   "cell_type": "code",
   "execution_count": null,
   "metadata": {},
   "outputs": [],
   "source": []
  },
  {
   "cell_type": "markdown",
   "metadata": {},
   "source": [
    "# Keras NNet solution"
   ]
  },
  {
   "cell_type": "code",
   "execution_count": 5,
   "metadata": {},
   "outputs": [],
   "source": [
    "# bagging mlp ensemble on blobs dataset\n",
    "import numpy as np\n",
    "from matplotlib import pyplot as plt\n",
    "from IPython.display import clear_output\n",
    "from sklearn.datasets.samples_generator import make_blobs\n",
    "from sklearn.utils import resample\n",
    "from sklearn.metrics import accuracy_score\n",
    "from keras.utils import to_categorical\n",
    "from keras.models import Sequential\n",
    "from keras.optimizers import Adam,SGD\n",
    "from keras.initializers import random_uniform,glorot_uniform\n",
    "from keras.layers import Dense,Dropout,BatchNormalization,Activation,Conv1D,MaxPooling1D\n",
    "from keras.callbacks import EarlyStopping, ModelCheckpoint,Callback\n",
    "from keras.wrappers.scikit_learn import KerasRegressor\n",
    "import keras.backend as K\n",
    "from sklearn.pipeline import Pipeline\n",
    "from sklearn.preprocessing import QuantileTransformer\n",
    "from sklearn.decomposition import PCA\n",
    "from matplotlib import pyplot\n",
    "from numpy import mean\n",
    "from numpy import std\n",
    "import numpy\n",
    "from numpy import array\n",
    "from numpy import argmax\n",
    "from keras_tqdm import TQDMNotebookCallback\n",
    "import numpy as np\n",
    "import tensorflow as tf\n",
    "\n",
    "def huber_loss(y_true, y_pred, clip_delta=1.0):\n",
    "  error = y_true - y_pred\n",
    "  cond  = tf.keras.backend.abs(error) < clip_delta\n",
    "\n",
    "  squared_loss = 0.5 * tf.keras.backend.square(error)\n",
    "  linear_loss  = clip_delta * (tf.keras.backend.abs(error) - 0.5 * clip_delta)\n",
    "\n",
    "  return tf.where(cond, squared_loss, linear_loss)\n",
    "\n",
    "def tilted_loss( y, f,q = 0.55):\n",
    "    e = (y - f)\n",
    "    return K.mean(K.maximum(q * e, (q - 1) * e),\n",
    "                              axis=-1)\n",
    "\n",
    "def huber_loss_mean(y_true, y_pred, clip_delta=1.0):\n",
    "  return tf.keras.backend.mean(huber_loss(y_true, y_pred, clip_delta))\n",
    "\n",
    "def create_model(optimizer=Adam(lr=0.01),\n",
    "                 kernel_initializer=random_uniform(seed=12), \n",
    "                 dropout=0.1,TIME_PERIODS = 24,num_channels = 65):\n",
    "    \n",
    "    model = Sequential()\n",
    "    model.add(Conv1D(32, 2, activation='relu', input_shape=(TIME_PERIODS, num_channels),padding = 'same',strides = 1))\n",
    "  #  model.add(Conv1D(32, 2, activation='relu',padding = 'same',strides = 1))\n",
    "    model.add(MaxPooling1D(3))\n",
    "    model.add(Dropout(0.5))\n",
    "    model.add(Dense(16, activation='relu',kernel_initializer=kernel_initializer))\n",
    "    model.add(Dropout(dropout))\n",
    "    model.add(Dense(1,kernel_initializer=kernel_initializer))\n",
    "\n",
    "    model.compile(loss=huber_loss,optimizer=optimizer, metrics=['mae'])\n",
    "\n",
    "    return model\n",
    "# wrap the model using the function you created\n",
    "reg = KerasRegressor(build_fn=create_model,verbose=0)\n",
    "\n",
    "\n",
    "scaler = make_pipeline(QuantileTransformer(output_distribution='normal'),StandardScaler(),PCA(whiten=True))\n",
    "target_scaler = make_pipeline(QuantileTransformer(output_distribution='normal'),StandardScaler())\n",
    "\n",
    "\n",
    "callbacks = [EarlyStopping(monitor='val_loss', patience=6),TQDMNotebookCallback(leave_inner=False),\n",
    "             ModelCheckpoint(filepath='./keras-ch/best_model.h5', monitor='val_loss', save_best_only=True)]"
   ]
  },
  {
   "cell_type": "code",
   "execution_count": 7,
   "metadata": {
    "collapsed": true
   },
   "outputs": [
    {
     "name": "stderr",
     "output_type": "stream",
     "text": [
      "C:\\Users\\abiryukov\\AppData\\Local\\Continuum\\anaconda3\\envs\\ocp\\lib\\site-packages\\ipykernel_launcher.py:20: SettingWithCopyWarning: \n",
      "A value is trying to be set on a copy of a slice from a DataFrame.\n",
      "Try using .loc[row_indexer,col_indexer] = value instead\n",
      "\n",
      "See the caveats in the documentation: http://pandas.pydata.org/pandas-docs/stable/indexing.html#indexing-view-versus-copy\n",
      "C:\\Users\\abiryukov\\AppData\\Local\\Continuum\\anaconda3\\envs\\ocp\\lib\\site-packages\\ipykernel_launcher.py:15: SettingWithCopyWarning: \n",
      "A value is trying to be set on a copy of a slice from a DataFrame.\n",
      "Try using .loc[row_indexer,col_indexer] = value instead\n",
      "\n",
      "See the caveats in the documentation: http://pandas.pydata.org/pandas-docs/stable/indexing.html#indexing-view-versus-copy\n",
      "  from ipykernel import kernelapp as app\n"
     ]
    },
    {
     "data": {
      "image/png": "[encoded data removed]",
      "text/plain": [
       "<Figure size 1440x1152 with 6 Axes>"
      ]
     },
     "metadata": {
      "needs_background": "light"
     },
     "output_type": "display_data"
    }
   ],
   "source": [
    "n_folds = 6\n",
    "cv = KFold(n_folds, shuffle=False, random_state=42)\n",
    "model = reg\n",
    "scores = []\n",
    "preds_all_alt = np.empty_like(y)\n",
    "preds_all_base = np.empty_like(y)\n",
    "\n",
    "\n",
    "\n",
    "true_all =np.empty_like(y)\n",
    "fig,ax = plt.subplots(figsize = (20,16),nrows = n_folds)\n",
    "X_new = scaler.fit_transform(X)\n",
    "Xw,yw = produce_training_data(X_new,y,ov=0.5)\n",
    "mask = yw['mask'].values\n",
    "yw[tgt] = yw[tgt].fillna(method='bfill')\n",
    "yf = yw[tgt].values\n"
   ]
  },
  {
   "cell_type": "code",
   "execution_count": null,
   "metadata": {},
   "outputs": [
    {
     "name": "stdout",
     "output_type": "stream",
     "text": [
      "[ 234  235  236 ... 1400 1401 1402]\n"
     ]
    },
    {
     "data": {
      "application/vnd.jupyter.widget-view+json": {
       "model_id": "f34b4eeab4c447e8aaf9511bc235af63",
       "version_major": 2,
       "version_minor": 0
      },
      "text/plain": [
       "HBox(children=(IntProgress(value=0, description='Training', max=30, style=ProgressStyle(description_width='ini…"
      ]
     },
     "metadata": {},
     "output_type": "display_data"
    },
    {
     "data": {
      "application/vnd.jupyter.widget-view+json": {
       "model_id": "86ff4da4cfd04ef4949d0efe91eb2c45",
       "version_major": 2,
       "version_minor": 0
      },
      "text/plain": [
       "HBox(children=(IntProgress(value=0, description='Epoch 0', max=1169, style=ProgressStyle(description_width='in…"
      ]
     },
     "metadata": {},
     "output_type": "display_data"
    }
   ],
   "source": [
    "history = [None for i in range(n_folds)]\n",
    "\n",
    "for fold_n, (train_index, valid_index) in enumerate(cv.split(yf)):\n",
    "# print('Fold', fold_n, 'started at', time.ctime())\n",
    "    print(train_index)\n",
    "    X_train, X_valid = Xw[train_index,:,:], Xw[valid_index,:,:]\n",
    "    y_train, y_valid = yf[train_index], yf[valid_index]\n",
    "    # Do the base\n",
    "    params = {\"validation_data\":(X_valid, y_valid),\n",
    "             \"epochs\":30,\n",
    "             \"verbose\":0,\n",
    "             \"batch_size\":8,\n",
    "             \"callbacks\":callbacks}\n",
    "    model = KerasRegressor(build_fn=create_model,verbose=0)\n",
    "    history[fold_n] = model.fit(X_train,y_train,**params)\n",
    "    preds  = model.predict(X_valid)\n",
    "    preds_all_base[valid_index] = preds\n",
    "    true_all[valid_index] = y_valid\n",
    "    score_val = mase(preds,y_valid)\n",
    "    df = pd.DataFrame({\"preds\":preds,\"true\":y_valid})\n",
    "    df.plot(ax=ax[fold_n],style =['-o','-o','-o'],title =f'CV score base: {score_val:.4f}',markersize=1.5)\n",
    "    \n",
    "oof_scores = mase(preds_all_base,true_all)\n",
    "print(oof_scores)"
   ]
  },
  {
   "cell_type": "markdown",
   "metadata": {},
   "source": [
    "# Stack Keras Models"
   ]
  },
  {
   "cell_type": "code",
   "execution_count": null,
   "metadata": {},
   "outputs": [],
   "source": []
  }
 ],
 "metadata": {
  "kernelspec": {
   "display_name": "Python 3",
   "language": "python",
   "name": "python3"
  },
  "language_info": {
   "codemirror_mode": {
    "name": "ipython",
    "version": 3
   },
   "file_extension": ".py",
   "mimetype": "text/x-python",
   "name": "python",
   "nbconvert_exporter": "python",
   "pygments_lexer": "ipython3",
   "version": "3.6.7"
  }
 },
 "nbformat": 4,
 "nbformat_minor": 2
}
